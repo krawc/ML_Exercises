{
 "cells": [
  {
   "cell_type": "code",
   "execution_count": 2,
   "metadata": {},
   "outputs": [
    {
     "name": "stdout",
     "output_type": "stream",
     "text": [
      "Populating the interactive namespace from numpy and matplotlib\n"
     ]
    }
   ],
   "source": [
    "%pylab inline\n",
    "from sklearn import preprocessing\n",
    "from sklearn import metrics\n",
    "from sklearn.model_selection import train_test_split #to split in train and test set\n",
    "from sklearn.linear_model import LogisticRegression #logistic regression classifier\n",
    "from sklearn.svm import LinearSVC\n",
    "from sklearn.ensemble import RandomForestClassifier\n",
    "from sklearn.neural_network import MLPClassifier\n",
    "from sklearn.preprocessing import StandardScaler\n",
    "from sklearn.model_selection import GridSearchCV, cross_val_score #BONUS: to tune parameters using cross-validation\n",
    "from sklearn.metrics import classification_report\n",
    "import matplotlib.pyplot as plt\n",
    "import numpy as np\n",
    "import pandas as pd\n",
    "from sklearn import preprocessing\n",
    "from __future__ import division"
   ]
  },
  {
   "cell_type": "code",
   "execution_count": 13,
   "metadata": {},
   "outputs": [
    {
     "name": "stderr",
     "output_type": "stream",
     "text": [
      "C:\\Users\\doria\\Anaconda3\\lib\\site-packages\\sklearn\\utils\\validation.py:429: DataConversionWarning: Data with input dtype int64 was converted to float64 by the scale function.\n",
      "  warnings.warn(msg, _DataConversionWarning)\n"
     ]
    }
   ],
   "source": [
    "#Data is a bunch of columns with different features.\n",
    "#1 - month\n",
    "#3 - day of the week\n",
    "#4 - airline\n",
    "#7 - departure airport\n",
    "#8 - arrival airport\n",
    "#9 - departure time\n",
    "#and also target:\n",
    "#11 - delay time -> later converted into 0-1 value of delay/ontime\n",
    "\n",
    "my_data = pd.read_csv('balancedset.csv', usecols=[1,3,4,7,8,9,11])\n",
    "\n",
    "# randomizes data\n",
    "my_data = my_data.sample(frac=1)\n",
    "\n",
    "# Create a set of dummy variables from the variable. \n",
    "# They say all over the internets that this is how you're supposed to handle categorical vars like strings etc.\n",
    "df_dummies = pd.get_dummies(my_data.iloc[:,[2,3,4]])\n",
    "\n",
    "#convert hours and minutes to just hours\n",
    "for index, row in my_data.iterrows():\n",
    "    hour = math.floor(int(row[5])/100)\n",
    "    minutes = int(row[5])/100 - hour\n",
    "    if minutes < .3:\n",
    "        row[5] = hour\n",
    "    else:\n",
    "        row[5] = hour + 1\n",
    "\n",
    "#get values for the target (delay on departure)\n",
    "yVal = np.array(my_data.iloc[:,[6]]).reshape(shape(my_data)[0],)\n",
    "y = []\n",
    "\n",
    "#delay has 4 values: on time (0), slight delay (1), medium delay (2) significant delay (3)\n",
    "for value in yVal:\n",
    "    if value <=10:\n",
    "        tgt = 0    \n",
    "    else: #value > 10 \n",
    "        tgt = 1\n",
    "    y.append(tgt)\n",
    "\n",
    "\n",
    "#remove targets and columns that were converted into dummy variables\n",
    "my_data = my_data.drop(my_data.columns[[2, 3, 4, 6]], axis=1)\n",
    "\n",
    "#concat my_data and dummies and generate a np.ndarray of features\n",
    "df_new = pd.concat([my_data, df_dummies], axis=1)\n",
    "X = df_new.values\n",
    "\n",
    "# Scale X\n",
    "X = preprocessing.scale(X) \n",
    "\n",
    "\n",
    "\n",
    "#split the data into training and test\n",
    "X_train, X_test, y_train, y_test = train_test_split(X, y, test_size=0.2)\n",
    "\n"
   ]
  },
  {
   "cell_type": "code",
   "execution_count": 14,
   "metadata": {},
   "outputs": [
    {
     "name": "stdout",
     "output_type": "stream",
     "text": [
      "(406558, 246)\n"
     ]
    }
   ],
   "source": [
    "print(shape(X))"
   ]
  },
  {
   "cell_type": "code",
   "execution_count": 55,
   "metadata": {},
   "outputs": [
    {
     "name": "stdout",
     "output_type": "stream",
     "text": [
      "------------------------SUPPORT VECTOR MACHINE:------------------------\n",
      "\n",
      "Cross-Validation: means & stds for given c-values\n"
     ]
    },
    {
     "ename": "KeyboardInterrupt",
     "evalue": "",
     "output_type": "error",
     "traceback": [
      "\u001b[1;31m---------------------------------------------------------------------------\u001b[0m",
      "\u001b[1;31mKeyboardInterrupt\u001b[0m                         Traceback (most recent call last)",
      "\u001b[1;32m<ipython-input-55-de723e74055d>\u001b[0m in \u001b[0;36m<module>\u001b[1;34m()\u001b[0m\n\u001b[0;32m     35\u001b[0m     \u001b[0mprint\u001b[0m\u001b[1;33m(\u001b[0m\u001b[0mmetrics\u001b[0m\u001b[1;33m.\u001b[0m\u001b[0mconfusion_matrix\u001b[0m\u001b[1;33m(\u001b[0m\u001b[0my_test\u001b[0m\u001b[1;33m,\u001b[0m \u001b[0mpredicted\u001b[0m\u001b[1;33m)\u001b[0m\u001b[1;33m)\u001b[0m\u001b[1;33m\u001b[0m\u001b[0m\n\u001b[0;32m     36\u001b[0m \u001b[1;33m\u001b[0m\u001b[0m\n\u001b[1;32m---> 37\u001b[1;33m \u001b[0msvm\u001b[0m\u001b[1;33m(\u001b[0m\u001b[1;33m)\u001b[0m\u001b[1;33m\u001b[0m\u001b[0m\n\u001b[0m",
      "\u001b[1;32m<ipython-input-55-de723e74055d>\u001b[0m in \u001b[0;36msvm\u001b[1;34m()\u001b[0m\n\u001b[0;32m     11\u001b[0m     \u001b[1;31m#use GridSearchCV to generate the best c-value for a classifier, from the cVal array\u001b[0m\u001b[1;33m\u001b[0m\u001b[1;33m\u001b[0m\u001b[0m\n\u001b[0;32m     12\u001b[0m     \u001b[0mcv_svm\u001b[0m \u001b[1;33m=\u001b[0m \u001b[0mGridSearchCV\u001b[0m\u001b[1;33m(\u001b[0m\u001b[0mestimator\u001b[0m\u001b[1;33m=\u001b[0m\u001b[0mcv_svmClass\u001b[0m\u001b[1;33m,\u001b[0m \u001b[0mparam_grid\u001b[0m \u001b[1;33m=\u001b[0m \u001b[0mdict\u001b[0m\u001b[1;33m(\u001b[0m\u001b[0mC\u001b[0m\u001b[1;33m=\u001b[0m\u001b[0mcVal\u001b[0m\u001b[1;33m)\u001b[0m\u001b[1;33m,\u001b[0m \u001b[0mcv\u001b[0m\u001b[1;33m=\u001b[0m\u001b[1;36m10\u001b[0m\u001b[1;33m,\u001b[0m \u001b[0mscoring\u001b[0m\u001b[1;33m=\u001b[0m\u001b[1;34m'accuracy'\u001b[0m\u001b[1;33m)\u001b[0m\u001b[1;33m\u001b[0m\u001b[0m\n\u001b[1;32m---> 13\u001b[1;33m     \u001b[0mcv_svm\u001b[0m\u001b[1;33m.\u001b[0m\u001b[0mfit\u001b[0m\u001b[1;33m(\u001b[0m\u001b[0mX_train\u001b[0m\u001b[1;33m,\u001b[0m \u001b[0my_train\u001b[0m\u001b[1;33m)\u001b[0m\u001b[1;33m\u001b[0m\u001b[0m\n\u001b[0m\u001b[0;32m     14\u001b[0m     \u001b[1;31m#print the mean and s.dev. scores for every c-value for comparison\u001b[0m\u001b[1;33m\u001b[0m\u001b[1;33m\u001b[0m\u001b[0m\n\u001b[0;32m     15\u001b[0m     \u001b[0mmeans_cv_svm\u001b[0m \u001b[1;33m=\u001b[0m \u001b[0mcv_svm\u001b[0m\u001b[1;33m.\u001b[0m\u001b[0mcv_results_\u001b[0m\u001b[1;33m[\u001b[0m\u001b[1;34m'mean_test_score'\u001b[0m\u001b[1;33m]\u001b[0m\u001b[1;33m\u001b[0m\u001b[0m\n",
      "\u001b[1;32mC:\\Users\\doria\\Anaconda3\\lib\\site-packages\\sklearn\\model_selection\\_search.py\u001b[0m in \u001b[0;36mfit\u001b[1;34m(self, X, y, groups)\u001b[0m\n\u001b[0;32m    943\u001b[0m             \u001b[0mtrain\u001b[0m\u001b[1;33m/\u001b[0m\u001b[0mtest\u001b[0m \u001b[0mset\u001b[0m\u001b[1;33m.\u001b[0m\u001b[1;33m\u001b[0m\u001b[0m\n\u001b[0;32m    944\u001b[0m         \"\"\"\n\u001b[1;32m--> 945\u001b[1;33m         \u001b[1;32mreturn\u001b[0m \u001b[0mself\u001b[0m\u001b[1;33m.\u001b[0m\u001b[0m_fit\u001b[0m\u001b[1;33m(\u001b[0m\u001b[0mX\u001b[0m\u001b[1;33m,\u001b[0m \u001b[0my\u001b[0m\u001b[1;33m,\u001b[0m \u001b[0mgroups\u001b[0m\u001b[1;33m,\u001b[0m \u001b[0mParameterGrid\u001b[0m\u001b[1;33m(\u001b[0m\u001b[0mself\u001b[0m\u001b[1;33m.\u001b[0m\u001b[0mparam_grid\u001b[0m\u001b[1;33m)\u001b[0m\u001b[1;33m)\u001b[0m\u001b[1;33m\u001b[0m\u001b[0m\n\u001b[0m\u001b[0;32m    946\u001b[0m \u001b[1;33m\u001b[0m\u001b[0m\n\u001b[0;32m    947\u001b[0m \u001b[1;33m\u001b[0m\u001b[0m\n",
      "\u001b[1;32mC:\\Users\\doria\\Anaconda3\\lib\\site-packages\\sklearn\\model_selection\\_search.py\u001b[0m in \u001b[0;36m_fit\u001b[1;34m(self, X, y, groups, parameter_iterable)\u001b[0m\n\u001b[0;32m    562\u001b[0m                                   \u001b[0mreturn_times\u001b[0m\u001b[1;33m=\u001b[0m\u001b[1;32mTrue\u001b[0m\u001b[1;33m,\u001b[0m \u001b[0mreturn_parameters\u001b[0m\u001b[1;33m=\u001b[0m\u001b[1;32mTrue\u001b[0m\u001b[1;33m,\u001b[0m\u001b[1;33m\u001b[0m\u001b[0m\n\u001b[0;32m    563\u001b[0m                                   error_score=self.error_score)\n\u001b[1;32m--> 564\u001b[1;33m           \u001b[1;32mfor\u001b[0m \u001b[0mparameters\u001b[0m \u001b[1;32min\u001b[0m \u001b[0mparameter_iterable\u001b[0m\u001b[1;33m\u001b[0m\u001b[0m\n\u001b[0m\u001b[0;32m    565\u001b[0m           for train, test in cv_iter)\n\u001b[0;32m    566\u001b[0m \u001b[1;33m\u001b[0m\u001b[0m\n",
      "\u001b[1;32mC:\\Users\\doria\\Anaconda3\\lib\\site-packages\\sklearn\\externals\\joblib\\parallel.py\u001b[0m in \u001b[0;36m__call__\u001b[1;34m(self, iterable)\u001b[0m\n\u001b[0;32m    756\u001b[0m             \u001b[1;31m# was dispatched. In particular this covers the edge\u001b[0m\u001b[1;33m\u001b[0m\u001b[1;33m\u001b[0m\u001b[0m\n\u001b[0;32m    757\u001b[0m             \u001b[1;31m# case of Parallel used with an exhausted iterator.\u001b[0m\u001b[1;33m\u001b[0m\u001b[1;33m\u001b[0m\u001b[0m\n\u001b[1;32m--> 758\u001b[1;33m             \u001b[1;32mwhile\u001b[0m \u001b[0mself\u001b[0m\u001b[1;33m.\u001b[0m\u001b[0mdispatch_one_batch\u001b[0m\u001b[1;33m(\u001b[0m\u001b[0miterator\u001b[0m\u001b[1;33m)\u001b[0m\u001b[1;33m:\u001b[0m\u001b[1;33m\u001b[0m\u001b[0m\n\u001b[0m\u001b[0;32m    759\u001b[0m                 \u001b[0mself\u001b[0m\u001b[1;33m.\u001b[0m\u001b[0m_iterating\u001b[0m \u001b[1;33m=\u001b[0m \u001b[1;32mTrue\u001b[0m\u001b[1;33m\u001b[0m\u001b[0m\n\u001b[0;32m    760\u001b[0m             \u001b[1;32melse\u001b[0m\u001b[1;33m:\u001b[0m\u001b[1;33m\u001b[0m\u001b[0m\n",
      "\u001b[1;32mC:\\Users\\doria\\Anaconda3\\lib\\site-packages\\sklearn\\externals\\joblib\\parallel.py\u001b[0m in \u001b[0;36mdispatch_one_batch\u001b[1;34m(self, iterator)\u001b[0m\n\u001b[0;32m    606\u001b[0m                 \u001b[1;32mreturn\u001b[0m \u001b[1;32mFalse\u001b[0m\u001b[1;33m\u001b[0m\u001b[0m\n\u001b[0;32m    607\u001b[0m             \u001b[1;32melse\u001b[0m\u001b[1;33m:\u001b[0m\u001b[1;33m\u001b[0m\u001b[0m\n\u001b[1;32m--> 608\u001b[1;33m                 \u001b[0mself\u001b[0m\u001b[1;33m.\u001b[0m\u001b[0m_dispatch\u001b[0m\u001b[1;33m(\u001b[0m\u001b[0mtasks\u001b[0m\u001b[1;33m)\u001b[0m\u001b[1;33m\u001b[0m\u001b[0m\n\u001b[0m\u001b[0;32m    609\u001b[0m                 \u001b[1;32mreturn\u001b[0m \u001b[1;32mTrue\u001b[0m\u001b[1;33m\u001b[0m\u001b[0m\n\u001b[0;32m    610\u001b[0m \u001b[1;33m\u001b[0m\u001b[0m\n",
      "\u001b[1;32mC:\\Users\\doria\\Anaconda3\\lib\\site-packages\\sklearn\\externals\\joblib\\parallel.py\u001b[0m in \u001b[0;36m_dispatch\u001b[1;34m(self, batch)\u001b[0m\n\u001b[0;32m    569\u001b[0m         \u001b[0mdispatch_timestamp\u001b[0m \u001b[1;33m=\u001b[0m \u001b[0mtime\u001b[0m\u001b[1;33m.\u001b[0m\u001b[0mtime\u001b[0m\u001b[1;33m(\u001b[0m\u001b[1;33m)\u001b[0m\u001b[1;33m\u001b[0m\u001b[0m\n\u001b[0;32m    570\u001b[0m         \u001b[0mcb\u001b[0m \u001b[1;33m=\u001b[0m \u001b[0mBatchCompletionCallBack\u001b[0m\u001b[1;33m(\u001b[0m\u001b[0mdispatch_timestamp\u001b[0m\u001b[1;33m,\u001b[0m \u001b[0mlen\u001b[0m\u001b[1;33m(\u001b[0m\u001b[0mbatch\u001b[0m\u001b[1;33m)\u001b[0m\u001b[1;33m,\u001b[0m \u001b[0mself\u001b[0m\u001b[1;33m)\u001b[0m\u001b[1;33m\u001b[0m\u001b[0m\n\u001b[1;32m--> 571\u001b[1;33m         \u001b[0mjob\u001b[0m \u001b[1;33m=\u001b[0m \u001b[0mself\u001b[0m\u001b[1;33m.\u001b[0m\u001b[0m_backend\u001b[0m\u001b[1;33m.\u001b[0m\u001b[0mapply_async\u001b[0m\u001b[1;33m(\u001b[0m\u001b[0mbatch\u001b[0m\u001b[1;33m,\u001b[0m \u001b[0mcallback\u001b[0m\u001b[1;33m=\u001b[0m\u001b[0mcb\u001b[0m\u001b[1;33m)\u001b[0m\u001b[1;33m\u001b[0m\u001b[0m\n\u001b[0m\u001b[0;32m    572\u001b[0m         \u001b[0mself\u001b[0m\u001b[1;33m.\u001b[0m\u001b[0m_jobs\u001b[0m\u001b[1;33m.\u001b[0m\u001b[0mappend\u001b[0m\u001b[1;33m(\u001b[0m\u001b[0mjob\u001b[0m\u001b[1;33m)\u001b[0m\u001b[1;33m\u001b[0m\u001b[0m\n\u001b[0;32m    573\u001b[0m \u001b[1;33m\u001b[0m\u001b[0m\n",
      "\u001b[1;32mC:\\Users\\doria\\Anaconda3\\lib\\site-packages\\sklearn\\externals\\joblib\\_parallel_backends.py\u001b[0m in \u001b[0;36mapply_async\u001b[1;34m(self, func, callback)\u001b[0m\n\u001b[0;32m    107\u001b[0m     \u001b[1;32mdef\u001b[0m \u001b[0mapply_async\u001b[0m\u001b[1;33m(\u001b[0m\u001b[0mself\u001b[0m\u001b[1;33m,\u001b[0m \u001b[0mfunc\u001b[0m\u001b[1;33m,\u001b[0m \u001b[0mcallback\u001b[0m\u001b[1;33m=\u001b[0m\u001b[1;32mNone\u001b[0m\u001b[1;33m)\u001b[0m\u001b[1;33m:\u001b[0m\u001b[1;33m\u001b[0m\u001b[0m\n\u001b[0;32m    108\u001b[0m         \u001b[1;34m\"\"\"Schedule a func to be run\"\"\"\u001b[0m\u001b[1;33m\u001b[0m\u001b[0m\n\u001b[1;32m--> 109\u001b[1;33m         \u001b[0mresult\u001b[0m \u001b[1;33m=\u001b[0m \u001b[0mImmediateResult\u001b[0m\u001b[1;33m(\u001b[0m\u001b[0mfunc\u001b[0m\u001b[1;33m)\u001b[0m\u001b[1;33m\u001b[0m\u001b[0m\n\u001b[0m\u001b[0;32m    110\u001b[0m         \u001b[1;32mif\u001b[0m \u001b[0mcallback\u001b[0m\u001b[1;33m:\u001b[0m\u001b[1;33m\u001b[0m\u001b[0m\n\u001b[0;32m    111\u001b[0m             \u001b[0mcallback\u001b[0m\u001b[1;33m(\u001b[0m\u001b[0mresult\u001b[0m\u001b[1;33m)\u001b[0m\u001b[1;33m\u001b[0m\u001b[0m\n",
      "\u001b[1;32mC:\\Users\\doria\\Anaconda3\\lib\\site-packages\\sklearn\\externals\\joblib\\_parallel_backends.py\u001b[0m in \u001b[0;36m__init__\u001b[1;34m(self, batch)\u001b[0m\n\u001b[0;32m    324\u001b[0m         \u001b[1;31m# Don't delay the application, to avoid keeping the input\u001b[0m\u001b[1;33m\u001b[0m\u001b[1;33m\u001b[0m\u001b[0m\n\u001b[0;32m    325\u001b[0m         \u001b[1;31m# arguments in memory\u001b[0m\u001b[1;33m\u001b[0m\u001b[1;33m\u001b[0m\u001b[0m\n\u001b[1;32m--> 326\u001b[1;33m         \u001b[0mself\u001b[0m\u001b[1;33m.\u001b[0m\u001b[0mresults\u001b[0m \u001b[1;33m=\u001b[0m \u001b[0mbatch\u001b[0m\u001b[1;33m(\u001b[0m\u001b[1;33m)\u001b[0m\u001b[1;33m\u001b[0m\u001b[0m\n\u001b[0m\u001b[0;32m    327\u001b[0m \u001b[1;33m\u001b[0m\u001b[0m\n\u001b[0;32m    328\u001b[0m     \u001b[1;32mdef\u001b[0m \u001b[0mget\u001b[0m\u001b[1;33m(\u001b[0m\u001b[0mself\u001b[0m\u001b[1;33m)\u001b[0m\u001b[1;33m:\u001b[0m\u001b[1;33m\u001b[0m\u001b[0m\n",
      "\u001b[1;32mC:\\Users\\doria\\Anaconda3\\lib\\site-packages\\sklearn\\externals\\joblib\\parallel.py\u001b[0m in \u001b[0;36m__call__\u001b[1;34m(self)\u001b[0m\n\u001b[0;32m    129\u001b[0m \u001b[1;33m\u001b[0m\u001b[0m\n\u001b[0;32m    130\u001b[0m     \u001b[1;32mdef\u001b[0m \u001b[0m__call__\u001b[0m\u001b[1;33m(\u001b[0m\u001b[0mself\u001b[0m\u001b[1;33m)\u001b[0m\u001b[1;33m:\u001b[0m\u001b[1;33m\u001b[0m\u001b[0m\n\u001b[1;32m--> 131\u001b[1;33m         \u001b[1;32mreturn\u001b[0m \u001b[1;33m[\u001b[0m\u001b[0mfunc\u001b[0m\u001b[1;33m(\u001b[0m\u001b[1;33m*\u001b[0m\u001b[0margs\u001b[0m\u001b[1;33m,\u001b[0m \u001b[1;33m**\u001b[0m\u001b[0mkwargs\u001b[0m\u001b[1;33m)\u001b[0m \u001b[1;32mfor\u001b[0m \u001b[0mfunc\u001b[0m\u001b[1;33m,\u001b[0m \u001b[0margs\u001b[0m\u001b[1;33m,\u001b[0m \u001b[0mkwargs\u001b[0m \u001b[1;32min\u001b[0m \u001b[0mself\u001b[0m\u001b[1;33m.\u001b[0m\u001b[0mitems\u001b[0m\u001b[1;33m]\u001b[0m\u001b[1;33m\u001b[0m\u001b[0m\n\u001b[0m\u001b[0;32m    132\u001b[0m \u001b[1;33m\u001b[0m\u001b[0m\n\u001b[0;32m    133\u001b[0m     \u001b[1;32mdef\u001b[0m \u001b[0m__len__\u001b[0m\u001b[1;33m(\u001b[0m\u001b[0mself\u001b[0m\u001b[1;33m)\u001b[0m\u001b[1;33m:\u001b[0m\u001b[1;33m\u001b[0m\u001b[0m\n",
      "\u001b[1;32mC:\\Users\\doria\\Anaconda3\\lib\\site-packages\\sklearn\\externals\\joblib\\parallel.py\u001b[0m in \u001b[0;36m<listcomp>\u001b[1;34m(.0)\u001b[0m\n\u001b[0;32m    129\u001b[0m \u001b[1;33m\u001b[0m\u001b[0m\n\u001b[0;32m    130\u001b[0m     \u001b[1;32mdef\u001b[0m \u001b[0m__call__\u001b[0m\u001b[1;33m(\u001b[0m\u001b[0mself\u001b[0m\u001b[1;33m)\u001b[0m\u001b[1;33m:\u001b[0m\u001b[1;33m\u001b[0m\u001b[0m\n\u001b[1;32m--> 131\u001b[1;33m         \u001b[1;32mreturn\u001b[0m \u001b[1;33m[\u001b[0m\u001b[0mfunc\u001b[0m\u001b[1;33m(\u001b[0m\u001b[1;33m*\u001b[0m\u001b[0margs\u001b[0m\u001b[1;33m,\u001b[0m \u001b[1;33m**\u001b[0m\u001b[0mkwargs\u001b[0m\u001b[1;33m)\u001b[0m \u001b[1;32mfor\u001b[0m \u001b[0mfunc\u001b[0m\u001b[1;33m,\u001b[0m \u001b[0margs\u001b[0m\u001b[1;33m,\u001b[0m \u001b[0mkwargs\u001b[0m \u001b[1;32min\u001b[0m \u001b[0mself\u001b[0m\u001b[1;33m.\u001b[0m\u001b[0mitems\u001b[0m\u001b[1;33m]\u001b[0m\u001b[1;33m\u001b[0m\u001b[0m\n\u001b[0m\u001b[0;32m    132\u001b[0m \u001b[1;33m\u001b[0m\u001b[0m\n\u001b[0;32m    133\u001b[0m     \u001b[1;32mdef\u001b[0m \u001b[0m__len__\u001b[0m\u001b[1;33m(\u001b[0m\u001b[0mself\u001b[0m\u001b[1;33m)\u001b[0m\u001b[1;33m:\u001b[0m\u001b[1;33m\u001b[0m\u001b[0m\n",
      "\u001b[1;32mC:\\Users\\doria\\Anaconda3\\lib\\site-packages\\sklearn\\model_selection\\_validation.py\u001b[0m in \u001b[0;36m_fit_and_score\u001b[1;34m(estimator, X, y, scorer, train, test, verbose, parameters, fit_params, return_train_score, return_parameters, return_n_test_samples, return_times, error_score)\u001b[0m\n\u001b[0;32m    236\u001b[0m             \u001b[0mestimator\u001b[0m\u001b[1;33m.\u001b[0m\u001b[0mfit\u001b[0m\u001b[1;33m(\u001b[0m\u001b[0mX_train\u001b[0m\u001b[1;33m,\u001b[0m \u001b[1;33m**\u001b[0m\u001b[0mfit_params\u001b[0m\u001b[1;33m)\u001b[0m\u001b[1;33m\u001b[0m\u001b[0m\n\u001b[0;32m    237\u001b[0m         \u001b[1;32melse\u001b[0m\u001b[1;33m:\u001b[0m\u001b[1;33m\u001b[0m\u001b[0m\n\u001b[1;32m--> 238\u001b[1;33m             \u001b[0mestimator\u001b[0m\u001b[1;33m.\u001b[0m\u001b[0mfit\u001b[0m\u001b[1;33m(\u001b[0m\u001b[0mX_train\u001b[0m\u001b[1;33m,\u001b[0m \u001b[0my_train\u001b[0m\u001b[1;33m,\u001b[0m \u001b[1;33m**\u001b[0m\u001b[0mfit_params\u001b[0m\u001b[1;33m)\u001b[0m\u001b[1;33m\u001b[0m\u001b[0m\n\u001b[0m\u001b[0;32m    239\u001b[0m \u001b[1;33m\u001b[0m\u001b[0m\n\u001b[0;32m    240\u001b[0m     \u001b[1;32mexcept\u001b[0m \u001b[0mException\u001b[0m \u001b[1;32mas\u001b[0m \u001b[0me\u001b[0m\u001b[1;33m:\u001b[0m\u001b[1;33m\u001b[0m\u001b[0m\n",
      "\u001b[1;32mC:\\Users\\doria\\Anaconda3\\lib\\site-packages\\sklearn\\svm\\classes.py\u001b[0m in \u001b[0;36mfit\u001b[1;34m(self, X, y, sample_weight)\u001b[0m\n\u001b[0;32m    213\u001b[0m             \u001b[0mself\u001b[0m\u001b[1;33m.\u001b[0m\u001b[0mclass_weight\u001b[0m\u001b[1;33m,\u001b[0m \u001b[0mself\u001b[0m\u001b[1;33m.\u001b[0m\u001b[0mpenalty\u001b[0m\u001b[1;33m,\u001b[0m \u001b[0mself\u001b[0m\u001b[1;33m.\u001b[0m\u001b[0mdual\u001b[0m\u001b[1;33m,\u001b[0m \u001b[0mself\u001b[0m\u001b[1;33m.\u001b[0m\u001b[0mverbose\u001b[0m\u001b[1;33m,\u001b[0m\u001b[1;33m\u001b[0m\u001b[0m\n\u001b[0;32m    214\u001b[0m             \u001b[0mself\u001b[0m\u001b[1;33m.\u001b[0m\u001b[0mmax_iter\u001b[0m\u001b[1;33m,\u001b[0m \u001b[0mself\u001b[0m\u001b[1;33m.\u001b[0m\u001b[0mtol\u001b[0m\u001b[1;33m,\u001b[0m \u001b[0mself\u001b[0m\u001b[1;33m.\u001b[0m\u001b[0mrandom_state\u001b[0m\u001b[1;33m,\u001b[0m \u001b[0mself\u001b[0m\u001b[1;33m.\u001b[0m\u001b[0mmulti_class\u001b[0m\u001b[1;33m,\u001b[0m\u001b[1;33m\u001b[0m\u001b[0m\n\u001b[1;32m--> 215\u001b[1;33m             self.loss, sample_weight=sample_weight)\n\u001b[0m\u001b[0;32m    216\u001b[0m \u001b[1;33m\u001b[0m\u001b[0m\n\u001b[0;32m    217\u001b[0m         \u001b[1;32mif\u001b[0m \u001b[0mself\u001b[0m\u001b[1;33m.\u001b[0m\u001b[0mmulti_class\u001b[0m \u001b[1;33m==\u001b[0m \u001b[1;34m\"crammer_singer\"\u001b[0m \u001b[1;32mand\u001b[0m \u001b[0mlen\u001b[0m\u001b[1;33m(\u001b[0m\u001b[0mself\u001b[0m\u001b[1;33m.\u001b[0m\u001b[0mclasses_\u001b[0m\u001b[1;33m)\u001b[0m \u001b[1;33m==\u001b[0m \u001b[1;36m2\u001b[0m\u001b[1;33m:\u001b[0m\u001b[1;33m\u001b[0m\u001b[0m\n",
      "\u001b[1;32mC:\\Users\\doria\\Anaconda3\\lib\\site-packages\\sklearn\\svm\\base.py\u001b[0m in \u001b[0;36m_fit_liblinear\u001b[1;34m(X, y, C, fit_intercept, intercept_scaling, class_weight, penalty, dual, verbose, max_iter, tol, random_state, multi_class, loss, epsilon, sample_weight)\u001b[0m\n\u001b[0;32m    910\u001b[0m         \u001b[0mX\u001b[0m\u001b[1;33m,\u001b[0m \u001b[0my_ind\u001b[0m\u001b[1;33m,\u001b[0m \u001b[0msp\u001b[0m\u001b[1;33m.\u001b[0m\u001b[0misspmatrix\u001b[0m\u001b[1;33m(\u001b[0m\u001b[0mX\u001b[0m\u001b[1;33m)\u001b[0m\u001b[1;33m,\u001b[0m \u001b[0msolver_type\u001b[0m\u001b[1;33m,\u001b[0m \u001b[0mtol\u001b[0m\u001b[1;33m,\u001b[0m \u001b[0mbias\u001b[0m\u001b[1;33m,\u001b[0m \u001b[0mC\u001b[0m\u001b[1;33m,\u001b[0m\u001b[1;33m\u001b[0m\u001b[0m\n\u001b[0;32m    911\u001b[0m         \u001b[0mclass_weight_\u001b[0m\u001b[1;33m,\u001b[0m \u001b[0mmax_iter\u001b[0m\u001b[1;33m,\u001b[0m \u001b[0mrnd\u001b[0m\u001b[1;33m.\u001b[0m\u001b[0mrandint\u001b[0m\u001b[1;33m(\u001b[0m\u001b[0mnp\u001b[0m\u001b[1;33m.\u001b[0m\u001b[0miinfo\u001b[0m\u001b[1;33m(\u001b[0m\u001b[1;34m'i'\u001b[0m\u001b[1;33m)\u001b[0m\u001b[1;33m.\u001b[0m\u001b[0mmax\u001b[0m\u001b[1;33m)\u001b[0m\u001b[1;33m,\u001b[0m\u001b[1;33m\u001b[0m\u001b[0m\n\u001b[1;32m--> 912\u001b[1;33m         epsilon, sample_weight)\n\u001b[0m\u001b[0;32m    913\u001b[0m     \u001b[1;31m# Regarding rnd.randint(..) in the above signature:\u001b[0m\u001b[1;33m\u001b[0m\u001b[1;33m\u001b[0m\u001b[0m\n\u001b[0;32m    914\u001b[0m     \u001b[1;31m# seed for srand in range [0..INT_MAX); due to limitations in Numpy\u001b[0m\u001b[1;33m\u001b[0m\u001b[1;33m\u001b[0m\u001b[0m\n",
      "\u001b[1;31mKeyboardInterrupt\u001b[0m: "
     ]
    }
   ],
   "source": [
    "### NOTE: SVM Runs too slow, do not attempt at this moment\n",
    "\n",
    "def svm():\n",
    "    \n",
    "    #prepare c-values for cross validation\n",
    "    cVal = [0.01, 0.03, 0.1, 0.3, 1, 3, 10]\n",
    "    \n",
    "    print('------------------------SUPPORT VECTOR MACHINE:------------------------')\n",
    "    print('');\n",
    "    print('Cross-Validation: means & stds for given c-values');\n",
    "    #define the classifier\n",
    "    cv_svmClass = LinearSVC(class_weight=\"balanced\")\n",
    "    #use GridSearchCV to generate the best c-value for a classifier, from the cVal array\n",
    "    cv_svm = GridSearchCV(estimator=cv_svmClass, param_grid = dict(C=cVal), cv=10, scoring='accuracy')\n",
    "    cv_svm.fit(X_train, y_train)\n",
    "    #print the mean and s.dev. scores for every c-value for comparison\n",
    "    means_cv_svm = cv_svm.cv_results_['mean_test_score']\n",
    "    stds_cv_svm = cv_svm.cv_results_['std_test_score']\n",
    "\n",
    "    #fit the data\n",
    "    #get the best c-value from grid search\n",
    "    best = cv_svm.best_params_['C']\n",
    "    \n",
    "    #define logistic regression using the best value\n",
    "    cv_svmBest = LinearSVC(C=best, class_weight=\"balanced\")\n",
    "    #fit the training data\n",
    "    cv_svmBest.fit(X_train, y_train)\n",
    "    #get the estimates\n",
    "    predicted = cv_svmBest.predict(X_test)\n",
    "    \n",
    "    print('Best score: {}'.format(best))\n",
    "    print()\n",
    "    print('Classification report for the best c-parameter (test set):')\n",
    "    print(classification_report(y_test, predicted))\n",
    "    print()\n",
    "    print('Confusion matrix for the best c-parameter (test set):')\n",
    "    print(metrics.confusion_matrix(y_test, predicted))  \n",
    "    \n",
    "svm()"
   ]
  },
  {
   "cell_type": "code",
   "execution_count": 23,
   "metadata": {
    "scrolled": false
   },
   "outputs": [
    {
     "name": "stdout",
     "output_type": "stream",
     "text": [
      "------------------------RANDOM FOREST:------------------------\n",
      "\n",
      "Cross-Validation: means & stds for given\n",
      "\n",
      "Best score: 14\n",
      "\n",
      "Classification report for the best c-parameter (test set):\n",
      "             precision    recall  f1-score   support\n",
      "\n",
      "          0       0.71      0.61      0.66     45946\n",
      "          1       0.57      0.68      0.62     35366\n",
      "\n",
      "avg / total       0.65      0.64      0.64     81312\n",
      "\n",
      "\n",
      "Confusion matrix for the best c-parameter (test set):\n",
      "[[28143 17803]\n",
      " [11359 24007]]\n"
     ]
    },
    {
     "data": {
      "image/png": "[encoded data removed]",
      "text/plain": [
       "<matplotlib.figure.Figure at 0x21c811f6438>"
      ]
     },
     "metadata": {},
     "output_type": "display_data"
    }
   ],
   "source": [
    "def forest():\n",
    "    \n",
    "    #prepare c-values for cross validation\n",
    "    cVal = [0.5, 2, 5, 8, 10, 12, 14]\n",
    "    \n",
    "    print('------------------------RANDOM FOREST:------------------------')\n",
    "    print('');\n",
    "    print('Cross-Validation: means & stds for given');\n",
    "    #define the classifier\n",
    "    cv_forestClass = RandomForestClassifier(class_weight=\"balanced\", n_estimators=80, max_features=0.3, max_depth=8)\n",
    "    #use GridSearchCV to generate the best c-value for a classifier, from the cVal array\n",
    "    cv_forest = GridSearchCV(estimator=cv_forestClass, param_grid = dict(min_samples_split=cVal), cv=10, scoring='accuracy')\n",
    "    #fit the data\n",
    "    cv_forest.fit(X_train, y_train)\n",
    "    #print the mean and s.dev. scores for every c-value for comparison\n",
    "    means_cv_forest = cv_forest.cv_results_['mean_test_score']\n",
    "    stds_cv_forest = cv_forest.cv_results_['std_test_score']\n",
    "    #for mean, std, params in zip(means_cv_reg, stds_cv_reg, cv_reg.cv_results_['params']):\n",
    "        #print(\"Mean: %0.5f | Standard Deviation:(+/-%0.03f) | for %r\" % (mean, std * 2, params))\n",
    "    #print()\n",
    "    \n",
    "    #plot the mean accuracies for logistic regression CV\n",
    "    ax1 = plt.subplot(\"211\")\n",
    "    ax1.set_title(\"Average results for logistic regression CV\")\n",
    "    ax1.set_ylabel('avg accuracy in CV')\n",
    "    ax1.set_xlabel('regularization parameter')\n",
    "    ax1.plot(cVal, means_cv_forest)\n",
    "    print()\n",
    "    \n",
    "    #get the best c-value from grid search\n",
    "    best = cv_forest.best_params_['min_samples_split']\n",
    "    #define logistic regression using the best value\n",
    "    cv_forestBest = RandomForestClassifier(min_samples_split=best, class_weight=\"balanced\", n_estimators=80, max_features=0.3, max_depth=8)\n",
    "    #fit the training data\n",
    "    cv_forestBest.fit(X_train, y_train)\n",
    "    #get the estimates\n",
    "    predicted = cv_forestBest.predict(X_test)\n",
    "    \n",
    "    print('Best score: {}'.format(best))\n",
    "    print()\n",
    "    print('Classification report for the best c-parameter (test set):')\n",
    "    print(classification_report(y_test, predicted))\n",
    "    print()\n",
    "    print('Confusion matrix for the best c-parameter (test set):')\n",
    "    print(metrics.confusion_matrix(y_test, predicted))\n",
    "    \n",
    "forest()"
   ]
  },
  {
   "cell_type": "code",
   "execution_count": 22,
   "metadata": {},
   "outputs": [
    {
     "name": "stdout",
     "output_type": "stream",
     "text": [
      "------------------------LOGISTIC REGRESSION:------------------------\n",
      "\n",
      "Cross-Validation: means & stds for given c-values\n",
      "\n",
      "Best score: 0.0003\n",
      "\n",
      "Classification report for the best c-parameter (train set):\n",
      "             precision    recall  f1-score   support\n",
      "\n",
      "          0       0.70      0.65      0.67    183368\n",
      "          1       0.58      0.64      0.61    141878\n",
      "\n",
      "avg / total       0.65      0.64      0.65    325246\n",
      "\n",
      "\n",
      "Confusion matrix for the best c-parameter (test set):\n",
      "[[118765  64603]\n",
      " [ 51264  90614]]\n",
      "\n",
      "Classification report for the best c-parameter (test set):\n",
      "             precision    recall  f1-score   support\n",
      "\n",
      "          0       0.70      0.65      0.68     45946\n",
      "          1       0.59      0.64      0.61     35366\n",
      "\n",
      "avg / total       0.65      0.65      0.65     81312\n",
      "\n",
      "\n",
      "Confusion matrix for the best c-parameter (test set):\n",
      "[[29940 16006]\n",
      " [12736 22630]]\n"
     ]
    },
    {
     "data": {
      "image/png": "[encoded data removed]",
      "text/plain": [
       "<matplotlib.figure.Figure at 0x21c81550390>"
      ]
     },
     "metadata": {},
     "output_type": "display_data"
    }
   ],
   "source": [
    "def logRegr():\n",
    "    \n",
    "    #prepare c-values for cross validation\n",
    "    cVal = [0.0001, 0.0003, 0.001, 0.003, 0.01, 0.03, 0.1, 0.3, 0.5, 1.]\n",
    "    \n",
    "    print('------------------------LOGISTIC REGRESSION:------------------------')\n",
    "    print('');\n",
    "    print('Cross-Validation: means & stds for given c-values');\n",
    "    #define the classifier\n",
    "    cv_regClass = LogisticRegression(class_weight=\"balanced\")\n",
    "    #use GridSearchCV to generate the best c-value for a classifier, from the cVal array\n",
    "    cv_reg = GridSearchCV(estimator=cv_regClass, param_grid = dict(C=cVal), cv=10, scoring='accuracy')\n",
    "    #fit the data\n",
    "    cv_reg.fit(X_train, y_train)\n",
    "    #print the mean and s.dev. scores for every c-value for comparison\n",
    "    means_cv_reg = cv_reg.cv_results_['mean_test_score']\n",
    "    stds_cv_reg = cv_reg.cv_results_['std_test_score']\n",
    "    #for mean, std, params in zip(means_cv_reg, stds_cv_reg, cv_reg.cv_results_['params']):\n",
    "        #print(\"Mean: %0.5f | Standard Deviation:(+/-%0.03f) | for %r\" % (mean, std * 2, params))\n",
    "    #print()\n",
    "    \n",
    "    #plot the mean accuracies for logistic regression CV\n",
    "    ax1 = plt.subplot(\"211\")\n",
    "    ax1.set_title(\"Average results for logistic regression CV\")\n",
    "    ax1.set_ylabel('avg accuracy in CV')\n",
    "    ax1.set_xlabel('regularization parameter')\n",
    "    ax1.plot(cVal, means_cv_reg)\n",
    "    print()\n",
    "    \n",
    "    #get the best c-value from grid search\n",
    "    best = cv_reg.best_params_['C']\n",
    "    #define logistic regression using the best value\n",
    "    cv_regBest = LogisticRegression(C=best, class_weight=\"balanced\")\n",
    "    #fit the training data\n",
    "    cv_regBest.fit(X_train, y_train)\n",
    "    #get the estimates\n",
    "    predictedtrain = cv_regBest.predict(X_train)\n",
    "    predictedtest = cv_regBest.predict(X_test)\n",
    "    \n",
    "    print('Best score: {}'.format(best))\n",
    "    print()\n",
    "    print('Classification report for the best c-parameter (train set):')\n",
    "    print(classification_report(y_train, predictedtrain))\n",
    "    print()\n",
    "    print('Confusion matrix for the best c-parameter (test set):')\n",
    "    print(metrics.confusion_matrix(y_train, predictedtrain))\n",
    "    print()\n",
    "    print('Classification report for the best c-parameter (test set):')\n",
    "    print(classification_report(y_test, predictedtest))\n",
    "    print()\n",
    "    print('Confusion matrix for the best c-parameter (test set):')\n",
    "    print(metrics.confusion_matrix(y_test, predictedtest))\n",
    "    \n",
    "logRegr()"
   ]
  },
  {
   "cell_type": "code",
   "execution_count": 21,
   "metadata": {},
   "outputs": [
    {
     "name": "stdout",
     "output_type": "stream",
     "text": [
      "------------------------NEURAL NETWORK:------------------------\n",
      "\n",
      "Cross-Validation: means & stds for given\n",
      "\n",
      "Best score: (30, 30, 30)\n",
      "\n",
      "Classification report for the best c-parameter (train set):\n",
      "             precision    recall  f1-score   support\n",
      "\n",
      "          0       0.70      0.75      0.73    183368\n",
      "          1       0.65      0.59      0.62    141878\n",
      "\n",
      "avg / total       0.68      0.68      0.68    325246\n",
      "\n",
      "\n",
      "Confusion matrix for the best c-parameter (train set):\n",
      "[[137490  45878]\n",
      " [ 58045  83833]]\n",
      "Classification report for the best c-parameter (test set):\n",
      "             precision    recall  f1-score   support\n",
      "\n",
      "          0       0.69      0.73      0.71     45946\n",
      "          1       0.62      0.57      0.59     35366\n",
      "\n",
      "avg / total       0.66      0.66      0.66     81312\n",
      "\n",
      "\n",
      "Confusion matrix for the best c-parameter (test set):\n",
      "[[33593 12353]\n",
      " [15311 20055]]\n"
     ]
    },
    {
     "data": {
      "image/png": "[encoded data removed]",
      "text/plain": [
       "<matplotlib.figure.Figure at 0x21c815846a0>"
      ]
     },
     "metadata": {},
     "output_type": "display_data"
    }
   ],
   "source": [
    "def mlp():\n",
    "    \n",
    "\n",
    "    #prepare c-values for cross validation\n",
    "    hidden = [(10,10,10), (20,20,20), (30,30,30)] # NOTE (2,) is a single layer with 2 nodes\n",
    "    \n",
    "    print('------------------------NEURAL NETWORK:------------------------')\n",
    "    print('');\n",
    "    print('Cross-Validation: means & stds for given');\n",
    "    #define the classifier\n",
    "    cv_mlpClass = MLPClassifier()\n",
    "    #use GridSearchCV to generate the best c-value for a classifier, from the cVal array\n",
    "    cv_mlp = GridSearchCV(estimator=cv_mlpClass, param_grid = dict(hidden_layer_sizes=hidden), cv=10, scoring='accuracy')\n",
    "    #fit the data\n",
    "    cv_mlp.fit(X_train, y_train)\n",
    "    #print the mean and s.dev. scores for every c-value for comparison\n",
    "    means_cv_mlp = cv_mlp.cv_results_['mean_test_score']\n",
    "    stds_cv_mlp = cv_mlp.cv_results_['std_test_score']\n",
    "    #for mean, std, params in zip(means_cv_reg, stds_cv_reg, cv_reg.cv_results_['params']):\n",
    "        #print(\"Mean: %0.5f | Standard Deviation:(+/-%0.03f) | for %r\" % (mean, std * 2, params))\n",
    "    #print()\n",
    "    \n",
    "    #plot the mean accuracies for logistic regression CV\n",
    "    ax1 = plt.subplot(\"211\")\n",
    "    ax1.set_title(\"Average results for logistic regression CV\")\n",
    "    ax1.set_ylabel('avg accuracy in CV')\n",
    "    ax1.set_xlabel('regularization parameter')\n",
    "    ax1.plot(hidden, means_cv_mlp)\n",
    "    print()\n",
    "    \n",
    "    #get the best c-value from grid search\n",
    "    best = cv_mlp.best_params_['hidden_layer_sizes']\n",
    "    #define logistic regression using the best value\n",
    "    cv_mlpBest = MLPClassifier(hidden_layer_sizes=best)\n",
    "    #fit the training data\n",
    "    cv_mlpBest.fit(X_train, y_train)\n",
    "    #get the estimates\n",
    "    predictedtrain = cv_mlpBest.predict(X_train)\n",
    "    predictedtest = cv_mlpBest.predict(X_test)\n",
    "    \n",
    "    print('Best score: {}'.format(best))\n",
    "    print()\n",
    "    print('Classification report for the best c-parameter (train set):')\n",
    "    print(classification_report(y_train, predictedtrain))\n",
    "    print()\n",
    "    print('Confusion matrix for the best c-parameter (train set):')\n",
    "    print(metrics.confusion_matrix(y_train, predictedtrain))\n",
    "    print('Classification report for the best c-parameter (test set):')\n",
    "    print(classification_report(y_test, predictedtest))\n",
    "    print()\n",
    "    print('Confusion matrix for the best c-parameter (test set):')\n",
    "    print(metrics.confusion_matrix(y_test, predictedtest))\n",
    "    \n",
    "mlp()"
   ]
  },
  {
   "cell_type": "code",
   "execution_count": 5,
   "metadata": {},
   "outputs": [
    {
     "data": {
      "image/png": "[encoded data removed]",
      "text/plain": [
       "<matplotlib.figure.Figure at 0x1be32329470>"
      ]
     },
     "metadata": {},
     "output_type": "display_data"
    }
   ],
   "source": [
    "import numpy as np\n",
    "import matplotlib.pyplot as plt\n",
    "\n",
    "TP = round(28143 / 45946 , 3)\n",
    "FP = round(17803 / 45946 , 3)\n",
    "FN = round(11359 / 35366 , 3)\n",
    "TN = round(24007 / 35366 , 3)\n",
    "\n",
    "\n",
    "conf_arr = np.array([[TP,FP],\n",
    "            [FN,TN]])\n",
    "\n",
    "norm_conf = []\n",
    "\n",
    "for i in conf_arr:\n",
    "    a = 0\n",
    "    tmp_arr = []\n",
    "    a = sum(i, 0)\n",
    "    for j in i:\n",
    "        tmp_arr.append(float(j)/float(a))\n",
    "    norm_conf.append(tmp_arr)\n",
    "\n",
    "fig = plt.figure()\n",
    "plt.clf()\n",
    "ax = fig.add_subplot(111)\n",
    "ax.set_aspect(1)\n",
    "res = ax.imshow(np.array(norm_conf), cmap=plt.cm.jet, \n",
    "                interpolation='nearest')\n",
    "\n",
    "width, height = conf_arr.shape\n",
    "\n",
    "for x in range(2):\n",
    "    for y in range(2):\n",
    "        ax.annotate(str(conf_arr[x][y]), xy=(y, x), \n",
    "                    horizontalalignment='center',\n",
    "                    verticalalignment='center')\n",
    "plt.axis('off')\n",
    "plt.title('Title')\n",
    "cb = fig.colorbar(res)"
   ]
  },
  {
   "cell_type": "code",
   "execution_count": null,
   "metadata": {
    "collapsed": true
   },
   "outputs": [],
   "source": []
  }
 ],
 "metadata": {
  "kernelspec": {
   "display_name": "Python [default]",
   "language": "python",
   "name": "python3"
  },
  "language_info": {
   "codemirror_mode": {
    "name": "ipython",
    "version": 3
   },
   "file_extension": ".py",
   "mimetype": "text/x-python",
   "name": "python",
   "nbconvert_exporter": "python",
   "pygments_lexer": "ipython3",
   "version": "3.5.3"
  }
 },
 "nbformat": 4,
 "nbformat_minor": 2
}
