{
 "cells": [
  {
   "cell_type": "markdown",
   "metadata": {},
   "source": [
    "## American Intercontinental Flights"
   ]
  },
  {
   "cell_type": "markdown",
   "metadata": {},
   "source": [
    "by: Konrad Krawczyk and Dorian Buijse"
   ]
  },
  {
   "cell_type": "code",
   "execution_count": 2,
   "metadata": {
    "collapsed": true
   },
   "outputs": [],
   "source": [
    "import csv\n",
    "import pandas as pd\n",
    "from collections import Counter\n",
    "from tempfile import NamedTemporaryFile\n",
    "import shutil\n",
    "from __future__ import division"
   ]
  },
  {
   "cell_type": "markdown",
   "metadata": {},
   "source": [
    "Problem with the data, oktober used a 5 number classification for the airports instead of the standard 3 letter one. To fix this we used the following script."
   ]
  },
  {
   "cell_type": "code",
   "execution_count": null,
   "metadata": {
    "collapsed": true
   },
   "outputs": [],
   "source": [
    "propercodes = csv.reader(open(\"./L_AIRPORT.csv\"))\n",
    "numbertoairport = csv.reader(open(\"./L_AIRPORT_ID.csv\"))\n",
    "prpcode = dict()\n",
    "numtoair = dict()\n",
    "\n",
    "for line in propercodes:\n",
    "    prpcode[line[-1]] = line[0]\n",
    "\n",
    "for line in numbertoairport:\n",
    "    numtoair[line[0]] = line[-1]\n",
    "    \n",
    "def numbertoiata(number):\n",
    "    return prpcode[numtoair[number]]"
   ]
  },
  {
   "cell_type": "markdown",
   "metadata": {},
   "source": [
    "Now to create the new dataset where all faulty classifications are fixed. (Only Oktober is faulty)"
   ]
  },
  {
   "cell_type": "code",
   "execution_count": null,
   "metadata": {
    "collapsed": true
   },
   "outputs": [],
   "source": [
    "filename = \"./flights.csv\"\n",
    "tempfile = NamedTemporaryFile(mode='wb', delete=False)\n",
    "\n",
    "with open(filename, 'rb') as csvfile, tempfile:\n",
    "    reader = csv.reader(csvfile)\n",
    "    writer = csv.writer(tempfile)\n",
    "    for row in reader:\n",
    "        if row[1] == '10':        #Oktober\n",
    "            row[7] = numbertoiata(row[7])\n",
    "            row[8] = numbertoiata(row[8])\n",
    "            writer.writerow(row)\n",
    "        else:\n",
    "            writer.writerow(row)  \n",
    "\n",
    "shutil.move(tempfile.name, filename)"
   ]
  },
  {
   "cell_type": "markdown",
   "metadata": {},
   "source": [
    "Remove all non delayed filghts and delayed flights without a reason."
   ]
  },
  {
   "cell_type": "code",
   "execution_count": 2,
   "metadata": {
    "collapsed": true
   },
   "outputs": [],
   "source": [
    "f1 = open('flights.csv', 'rb')\n",
    "f2 = open('flights_delayed.csv', 'wb')\n",
    "reader = csv.reader(f1)\n",
    "writer = csv.writer(f2)\n",
    "for row in reader:\n",
    "    if row[-1] != '':\n",
    "        writer.writerow(row)\n",
    "    else:\n",
    "        continue\n",
    "\n",
    "f1.close()\n",
    "f2.close()"
   ]
  },
  {
   "cell_type": "markdown",
   "metadata": {},
   "source": [
    "Take the 6 largest airlines\n",
    "\n",
    "- United Airlines\n",
    "- American Airlines\n",
    "- Delta\n",
    "- South west\n",
    "- Alaska\n",
    "- Jetblue\n"
   ]
  },
  {
   "cell_type": "code",
   "execution_count": 5,
   "metadata": {
    "collapsed": true
   },
   "outputs": [],
   "source": [
    "f2 = open('./flights_delayed.csv', 'rb')\n",
    "f3 = open('./flights_delayed_selairl.csv', 'wb')\n",
    "r = csv.reader(f2)\n",
    "w = csv.writer(f3)\n",
    "\n",
    "for row in r:\n",
    "    if row[4] in ['UA', 'AA', 'DL', 'WN', 'AS', 'B6']:\n",
    "        w.writerow(row)\n",
    "    else:\n",
    "        continue\n",
    "    \n",
    "f2.close()\n",
    "f3.close()"
   ]
  },
  {
   "cell_type": "code",
   "execution_count": 24,
   "metadata": {
    "collapsed": true
   },
   "outputs": [],
   "source": [
    "count = Counter()\n",
    "\n",
    "f3 = open('./flights_delayed_selairl.csv', 'rb')\n",
    "r = csv.reader(f3)\n",
    "\n",
    "for line in r:\n",
    "    count[line[7]] += 1\n",
    "    count[line[8]] += 1\n",
    "\n",
    "f3.close()"
   ]
  },
  {
   "cell_type": "markdown",
   "metadata": {},
   "source": [
    "Count average amount of delayed flights of the 6 biggest airlines per day per airport "
   ]
  },
  {
   "cell_type": "code",
   "execution_count": 28,
   "metadata": {},
   "outputs": [
    {
     "name": "stdout",
     "output_type": "stream",
     "text": [
      "Counter({'ATL': 217, 'LAX': 165, 'DFW': 151, 'ORD': 149, 'DEN': 136, 'LAS': 118, 'SFO': 111, 'BOS': 110, 'JFK': 107, 'MCO': 107, 'PHX': 105, 'BWI': 90, 'SEA': 89, 'LGA': 88, 'MDW': 86, 'EWR': 82, 'IAH': 78, 'MIA': 74, 'FLL': 62, 'MSP': 62, 'DAL': 62, 'SAN': 58, 'DCA': 58, 'TPA': 58, 'HOU': 57, 'DTW': 55, 'CLT': 55, 'PHL': 47, 'OAK': 42, 'SLC': 40, 'STL': 39, 'AUS': 36, 'BNA': 35, 'PDX': 33, 'SJC': 32, 'MSY': 32, 'SMF': 31, 'MCI': 30, 'IAD': 29, 'SNA': 28, 'SJU': 26, 'SAT': 25, 'PBI': 25, 'RDU': 24, 'RSW': 21, 'PIT': 17, 'IND': 17, 'ABQ': 17, 'BDL': 16, 'MKE': 16, 'CMH': 15, 'JAX': 14, 'CLE': 14, 'ONT': 14, 'BUR': 13, 'BUF': 13, 'HNL': 13, 'ANC': 13, 'OMA': 10, 'RNO': 9, 'OKC': 9, 'PVD': 9, 'ELP': 9, 'TUS': 8, 'TUL': 8, 'LGB': 8, 'RIC': 7, 'CHS': 7, 'MEM': 7, 'GEG': 6, 'ALB': 6, 'SDF': 6, 'BHM': 6, 'OGG': 6, 'ORF': 5, 'HPN': 5, 'BOI': 4, 'ISP': 4, 'CAK': 4, 'ROC': 4, 'GRR': 4, 'MHT': 4, 'CVG': 4, 'LIT': 3, 'JNU': 3, 'DAY': 3, 'MAF': 3, 'DSM': 3, 'SRQ': 3, 'SAV': 3, 'STT': 3, 'PNS': 3, 'PWM': 3, 'GSP': 2, 'LBB': 2, 'LIH': 2, 'JAC': 2, 'SYR': 2, 'PSP': 2, 'BSM': 2, 'ECP': 2, 'KOA': 2, 'MSN': 2, 'KTN': 2, 'ICT': 2, 'FNT': 1, 'SIT': 1, 'EGE': 1, 'HSV': 1, 'AMA': 1, 'BQN': 1, 'JAN': 1, 'HRL': 1, 'CRP': 1, 'MFE': 1, 'GSO': 1, 'BTV': 1, 'COS': 1, 'BZN': 1, 'MDT': 1, 'BIL': 1, 'VPS': 1, 'FAI': 1, 'STX': 1, 'DAB': 1, 'GST': 0, 'BGR': 0, 'AGS': 0, 'MYR': 0, 'RAP': 0, 'WRG': 0, 'CHO': 0, 'EYW': 0, 'GPT': 0, 'PHF': 0, 'GUC': 0, 'CRW': 0, 'GUM': 0, 'HDN': 0, 'BET': 0, 'ROA': 0, 'SCC': 0, 'TRI': 0, 'SHV': 0, 'DLH': 0, 'GRB': 0, 'MTJ': 0, 'BTR': 0, 'PSC': 0, 'AVP': 0, 'PSG': 0, 'PSE': 0, 'AVL': 0, 'BLI': 0, 'TYS': 0, 'FSD': 0, 'ACK': 0, 'ILM': 0, 'XNA': 0, 'ATW': 0, 'DLG': 0, 'AKN': 0, 'FCA': 0, 'MVY': 0, 'LFT': 0, 'YAK': 0, 'TLH': 0, 'ADK': 0, 'ITO': 0, 'OME': 0, 'BRW': 0, 'CDV': 0, 'TVC': 0, 'ORH': 0, 'LEX': 0, 'SBN': 0, 'HYA': 0, 'GNV': 0, 'CHA': 0, 'SWF': 0, 'MSO': 0, 'CAE': 0, 'FAY': 0, 'FAR': 0, 'ADQ': 0, 'FAT': 0, 'EVV': 0, 'BIS': 0, 'SGF': 0, 'MLB': 0, 'ABE': 0, 'MOB': 0, 'OTZ': 0})\n"
     ]
    }
   ],
   "source": [
    "count_avg = Counter()\n",
    "for k,v in count.items():\n",
    "    count_avg[k] = v/365\n",
    "print(count_avg)"
   ]
  },
  {
   "cell_type": "markdown",
   "metadata": {},
   "source": [
    "Any airport with less than a ***variable*** (*var*) number of total flights a day is removed from the dataset"
   ]
  },
  {
   "cell_type": "code",
   "execution_count": 3,
   "metadata": {
    "collapsed": true
   },
   "outputs": [],
   "source": [
    "count2 = Counter()\n",
    "\n",
    "var = 100 # Number of minimal daily flights\n",
    "\n",
    "f4 = open(\"flights.csv\")\n",
    "flights = csv.reader(f4)\n",
    "\n",
    "for line in flights:\n",
    "    count2[line[7]] += 1\n",
    "    count2[line[8]] += 1\n",
    "    \n",
    "for k,v in count2.items():\n",
    "    count2[k] = v/365\n",
    "    \n",
    "f4.close()\n",
    "\n",
    "imp_airp = []\n",
    "for k,v in count2.iteritems():\n",
    "    if v >= 100:\n",
    "        imp_airp.append(k)\n",
    "    else:\n",
    "        continue"
   ]
  },
  {
   "cell_type": "code",
   "execution_count": 5,
   "metadata": {},
   "outputs": [
    {
     "name": "stdout",
     "output_type": "stream",
     "text": [
      "['JFK', 'MIA', 'BOS', 'SAN', 'DCA', 'BWI', 'PIT', 'SAT', 'IAH', 'TPA', 'IAD', 'BNA', 'PHL', 'SNA', 'PHX', 'LAX', 'LAS', 'CMH', 'FLL', 'DEN', 'DTW', 'SFO', 'BUF', 'BDL', 'EWR', 'BUR', 'PBI', 'IND', 'ATL', 'HNL', 'SMF', 'OAK', 'SEA', 'MDW', 'PDX', 'CLE', 'DFW', 'SJU', 'AUS', 'SJC', 'OMA', 'ORD', 'RDU', 'MKE', 'MSY', 'MSP', 'CVG', 'JAX', 'CLT', 'ONT', 'STL', 'ABQ', 'HOU', 'SLC', 'MCO', 'RSW', 'MCI', 'LGA', 'DAL', 'OGG']\n"
     ]
    }
   ],
   "source": [
    "print(imp_airp)"
   ]
  },
  {
   "cell_type": "code",
   "execution_count": 21,
   "metadata": {
    "collapsed": true
   },
   "outputs": [],
   "source": [
    "f3 = open('./flights_delayed_selairl.csv', 'rb')\n",
    "f5 = open('./flights_delayed_selairl_selairp.csv', 'wb')\n",
    "read = csv.reader(f3)\n",
    "write = csv.writer(f5)\n",
    "\n",
    "for row in read:\n",
    "    if row[7] and row[8] in imp_airp:\n",
    "        write.writerow(row)\n",
    "    else:\n",
    "        continue\n",
    "    \n",
    "f3.close()\n",
    "f5.close()"
   ]
  },
  {
   "cell_type": "markdown",
   "metadata": {},
   "source": [
    "If delay is smaller than *variable*, skip it"
   ]
  },
  {
   "cell_type": "code",
   "execution_count": 23,
   "metadata": {
    "collapsed": true
   },
   "outputs": [],
   "source": [
    "f6 = open('./flights_delayed_selairl_selairp.csv', 'rb')\n",
    "f7 = open('./flights_extremedelayed_selairl_selairp.csv', 'wb')\n",
    "reader = csv.reader(f6)\n",
    "writer = csv.writer(f7)\n",
    "\n",
    "vari = 20\n",
    "\n",
    "for row in reader:\n",
    "    if int(row[21]) >= vari:\n",
    "        writer.writerow(row)\n",
    "    else:\n",
    "        continue\n",
    "\n",
    "\n",
    "f6.close()\n",
    "f7.close()"
   ]
  },
  {
   "cell_type": "code",
   "execution_count": 45,
   "metadata": {
    "collapsed": true,
    "scrolled": true
   },
   "outputs": [],
   "source": [
    "with open('./flights_extremedelayed_selairl_selairp.csv', 'rb') as f7:\n",
    "    with open('./smalldataset.csv', 'wb') as f8:\n",
    "        r = csv.reader(f7)\n",
    "        w = csv.writer(f8)\n",
    "        for v, row in enumerate(r):\n",
    "            if v%100 == 0:\n",
    "                w.writerow(row)\n",
    "            else:\n",
    "                continue"
   ]
  },
  {
   "cell_type": "code",
   "execution_count": 59,
   "metadata": {
    "collapsed": true
   },
   "outputs": [],
   "source": [
    "with open('./flights.csv', 'rb') as f9:\n",
    "    with open('./allnondelayedflights.csv', 'wb') as f10:\n",
    "        r = csv.reader(f9)\n",
    "        w = csv.writer(f10)\n",
    "        for v, row in enumerate(r):\n",
    "            if v != 0 and row[22] != '':\n",
    "                if int(row[22]) <= 0:\n",
    "                    w.writerow(row)\n",
    "                else:\n",
    "                    continue\n",
    "            else:\n",
    "                continue\n",
    "            "
   ]
  },
  {
   "cell_type": "code",
   "execution_count": 62,
   "metadata": {
    "collapsed": true
   },
   "outputs": [],
   "source": [
    "with open('./allnondelayedflights.csv', 'rb') as f11:\n",
    "    with open('./smalldatasetnondelayed.csv', 'wb') as f12:\n",
    "        r = csv.reader(f11)\n",
    "        w = csv.writer(f12)\n",
    "        for v, row in enumerate(r):\n",
    "            if v%600 == 0:\n",
    "                w.writerow(row)\n",
    "            else:\n",
    "                continue"
   ]
  },
  {
   "cell_type": "code",
   "execution_count": 4,
   "metadata": {
    "collapsed": true
   },
   "outputs": [],
   "source": [
    "c = Counter()\n",
    "\n",
    "with open('./flights.csv', 'rb') as f9:\n",
    "    with open('./smallestdataset.csv', 'wb') as f10:\n",
    "        r = csv.reader(f9)\n",
    "        w = csv.writer(f10)\n",
    "        for v, row in enumerate(r):\n",
    "            if v%480 == 0 and row[22] != '' and v != 0:\n",
    "                w.writerow(row)\n",
    "                if int(row[22]) > 10:\n",
    "                    c['delay'] += 1\n",
    "                else:\n",
    "                    c['on_time']  += 1\n",
    "            else:\n",
    "                continue\n",
    "            "
   ]
  },
  {
   "cell_type": "code",
   "execution_count": 5,
   "metadata": {},
   "outputs": [
    {
     "name": "stdout",
     "output_type": "stream",
     "text": [
      "Counter({'on_time': 9244, 'delay': 2642})\n"
     ]
    }
   ],
   "source": [
    "print(c)"
   ]
  },
  {
   "cell_type": "code",
   "execution_count": 6,
   "metadata": {
    "collapsed": true
   },
   "outputs": [],
   "source": [
    "with open('smallestdataset.csv', 'rb') as r1:\n",
    "    with open('selectedsmallestdataset.csv', 'wb') as w1:\n",
    "        r = csv.reader(r1)\n",
    "        w = csv.writer(w1)\n",
    "        for row in r:\n",
    "            if row[7] and row[8] in imp_airp and row[4] in ['UA', 'AA', 'DL', 'WN', 'AS', 'B6']:\n",
    "                w.writerow(row)\n",
    "            else:\n",
    "                continue    "
   ]
  },
  {
   "cell_type": "code",
   "execution_count": 6,
   "metadata": {},
   "outputs": [],
   "source": [
    "c1 = Counter()\n",
    "with open('flights_delayed.csv', 'rb') as r1:\n",
    "    with open('allnondelayedflights.csv', 'rb') as r2:\n",
    "        with open('balancedset.csv', 'wb') as w:\n",
    "            re1 = csv.reader(r1)\n",
    "            re2 = csv.reader(r2)\n",
    "            wr = csv.writer(w)\n",
    "            for v, row in enumerate(re1):\n",
    "                if v%3 == 0 and v != 0 and row[7] and row[8] in imp_airp and row[4] in ['UA', 'AA', 'DL', 'WN', 'AS', 'B6']:\n",
    "                    wr.writerow(row)\n",
    "                    c1['delay'] += 1\n",
    "            for v, row in enumerate(re2):\n",
    "                if v%10 == 0 and row[22] != '' and v != 0 and row[7] in imp_airp and row[8] in imp_airp and row[4] in ['UA', 'AA', 'DL', 'WN', 'AS', 'B6']:\n",
    "                    wr.writerow(row)\n",
    "                    c1['nondelay'] += 1\n",
    "                \n",
    "                "
   ]
  },
  {
   "cell_type": "code",
   "execution_count": 7,
   "metadata": {},
   "outputs": [
    {
     "name": "stdout",
     "output_type": "stream",
     "text": [
      "Counter({'delay': 204760, 'nondelay': 201799})\n"
     ]
    }
   ],
   "source": [
    "print(c1)"
   ]
  },
  {
   "cell_type": "code",
   "execution_count": null,
   "metadata": {
    "collapsed": true
   },
   "outputs": [],
   "source": []
  }
 ],
 "metadata": {
  "kernelspec": {
   "display_name": "Python 2",
   "language": "python",
   "name": "python2"
  },
  "language_info": {
   "codemirror_mode": {
    "name": "ipython",
    "version": 2
   },
   "file_extension": ".py",
   "mimetype": "text/x-python",
   "name": "python",
   "nbconvert_exporter": "python",
   "pygments_lexer": "ipython2",
   "version": "2.7.13"
  }
 },
 "nbformat": 4,
 "nbformat_minor": 2
}
