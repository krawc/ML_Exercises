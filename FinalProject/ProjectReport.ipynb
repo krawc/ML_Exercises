{
 "cells": [
  {
   "cell_type": "markdown",
   "metadata": {},
   "source": [
    "# Flight Delay Prediction - Project Report\n",
    "\n",
    "by Dorian Buijse and Konrad Krawczyk\n",
    "\n",
    "## 1. Introduction\n",
    "\n",
    "### 1.1. Purpose statement\n",
    "\n",
    "Throughout the year 2015, there has been over 5,4 million domestic flights within the US. All of their metadata are recorded and saved in the Department of Transportation's (DOT) Bureau of Transportation Statistics. \n",
    "\n",
    "Flight delays cause significant financial and other losses to airlines, airports, and passengers. Their prediction is crucial during the decision-making process for all players of American aviation industry. Therefore, predicting the likelihood of delay based on flights' features bridges an important information asymmetry between airlines and passengers.\n",
    "\n",
    "The primary use case of the algorithm will be: **predicting a potential delay, on a given day, for a given airport and airline.**\n",
    "\n",
    "### 1.2. Data Overview\n",
    "\n",
    "The dataset to be analysed consists of data about all domestic flights in the United States for the whole year 2015, for all airports and airlines.  The data was collected and published by the DOT's Bureau of Transportation Statistics.  The raw data file, with appropriate documentation, can be found on:  https://www.kaggle.com/usdot/flight-delays .\n",
    "The whole set has over 5,400,000 examples. By default, every example has 31 features, although not all information is complete for all examples. It is nevertheless an extremely large and comprehensive dataset, which allows for very accurate statistical inferences. For the sake of better performance, we shrunk the dataset by a hundred times, leaving 54,000 examples - still large enough, but far more manageable.\n",
    "\n",
    "## 2. Data Analysis\n",
    "\n",
    "\n",
    "\n"
   ]
  },
  {
   "cell_type": "code",
   "execution_count": null,
   "metadata": {
    "collapsed": true
   },
   "outputs": [],
   "source": []
  }
 ],
 "metadata": {
  "kernelspec": {
   "display_name": "Python 3",
   "language": "python",
   "name": "python3"
  },
  "language_info": {
   "codemirror_mode": {
    "name": "ipython",
    "version": 3
   },
   "file_extension": ".py",
   "mimetype": "text/x-python",
   "name": "python",
   "nbconvert_exporter": "python",
   "pygments_lexer": "ipython3",
   "version": "3.6.1"
  }
 },
 "nbformat": 4,
 "nbformat_minor": 2
}
