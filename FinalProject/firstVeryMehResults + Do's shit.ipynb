{
 "cells": [
  {
   "cell_type": "code",
   "execution_count": 3,
   "metadata": {},
   "outputs": [
    {
     "name": "stdout",
     "output_type": "stream",
     "text": [
      "Populating the interactive namespace from numpy and matplotlib\n"
     ]
    }
   ],
   "source": [
    "%pylab inline\n",
    "from sklearn import preprocessing\n",
    "from sklearn import metrics\n",
    "from sklearn.model_selection import train_test_split #to split in train and test set\n",
    "from sklearn.linear_model import LogisticRegression #logistic regression classifier\n",
    "from sklearn.svm import LinearSVC\n",
    "from sklearn.ensemble import RandomForestClassifier\n",
    "from sklearn.neural_network import MLPClassifier\n",
    "from sklearn.preprocessing import StandardScaler\n",
    "from sklearn.model_selection import GridSearchCV, cross_val_score #BONUS: to tune parameters using cross-validation\n",
    "from sklearn.metrics import classification_report\n",
    "import matplotlib.pyplot as plt\n",
    "import numpy as np\n",
    "import pandas as pd\n",
    "from sklearn import preprocessing"
   ]
  },
  {
   "cell_type": "code",
   "execution_count": 46,
   "metadata": {
    "scrolled": true
   },
   "outputs": [
    {
     "name": "stderr",
     "output_type": "stream",
     "text": [
      "/Users/konradkrawczyk/anaconda/lib/python3.6/site-packages/sklearn/utils/validation.py:475: DataConversionWarning: Data with input dtype int64 was converted to float64 by the scale function.\n",
      "  warnings.warn(msg, DataConversionWarning)\n"
     ]
    }
   ],
   "source": [
    "#Data is a bunch of columns with different features.\n",
    "#1 - month\n",
    "#3 - day of the week\n",
    "#4 - airline\n",
    "#7 - departure airport\n",
    "#9 - departure time\n",
    "#17 - distance\n",
    "#and target:\n",
    "#22 - arrival delay time || 0 => no relevant delay; 1 => some delay; 2 => major delay\n",
    "\n",
    "my_data = pd.read_csv('selectedsmalldataset.csv', usecols=[1,3,4,7,9,17,22])\n",
    "\n",
    "# randomizes data\n",
    "my_data = my_data.sample(frac=1)\n",
    "\n",
    "# Create a set of dummy variables from the variable. \n",
    "# They say all over the internets that this is how you're supposed to handle categorical vars like strings etc.\n",
    "df_dummies = pd.get_dummies(my_data.iloc[:,[2,3]])\n",
    "\n",
    "#convert hours and minutes to just hours\n",
    "for index, row in my_data.iterrows():\n",
    "    hour = math.floor(int(row[5])/100)\n",
    "    minutes = int(row[5])/100 - hour\n",
    "    if minutes < .3:\n",
    "        row[5] = hour\n",
    "    else:\n",
    "        row[5] = hour + 1\n",
    "\n",
    "#get values for the target (delay on arrival)\n",
    "yVal = np.array(my_data.iloc[:,[6]]).reshape(shape(my_data)[0],)\n",
    "y = []\n",
    "\n",
    "#delay has 4 values: on time (0), slight delay (1), medium delay (2) significant delay (3)\n",
    "for value in yVal:\n",
    "    if value <=5:\n",
    "        tgt = 0\n",
    "    elif value <= 45:\n",
    "        tgt = 1        \n",
    "    else: \n",
    "        tgt = 2\n",
    "    y.append(tgt)\n",
    "\n",
    "\n",
    "#remove targets and columns that were converted into dummy variables\n",
    "my_data = my_data.drop(my_data.columns[[2, 3, 6]], axis=1)\n",
    "\n",
    "#concat my_data and dummies and generate a np.ndarray of features\n",
    "df_new = pd.concat([my_data, df_dummies], axis=1)\n",
    "X = df_new.values\n",
    "\n",
    "# Scale X\n",
    "X = preprocessing.scale(X)\n",
    "\n",
    "#split the data into training and test\n",
    "X_train, X_test, y_train, y_test = train_test_split(X, y, test_size=0.35)\n"
   ]
  },
  {
   "cell_type": "code",
   "execution_count": 47,
   "metadata": {
    "scrolled": true
   },
   "outputs": [
    {
     "name": "stdout",
     "output_type": "stream",
     "text": [
      "(71787, 189)\n"
     ]
    }
   ],
   "source": [
    "print(shape(X))"
   ]
  },
  {
   "cell_type": "code",
   "execution_count": 53,
   "metadata": {
    "scrolled": true
   },
   "outputs": [
    {
     "name": "stdout",
     "output_type": "stream",
     "text": [
      "------------------------RANDOM FOREST:------------------------\n",
      "\n",
      "Cross-Validation: means & stds for given\n",
      "\n",
      "Best score: 3\n",
      "\n",
      "Classification report for the best c-parameter (test set):\n",
      "             precision    recall  f1-score   support\n",
      "\n",
      "          0       0.81      0.60      0.69     18484\n",
      "          1       0.24      0.19      0.22      4821\n",
      "          2       0.13      0.54      0.21      1821\n",
      "\n",
      "avg / total       0.65      0.52      0.56     25126\n",
      "\n",
      "\n",
      "Confusion matrix for the best c-parameter (test set):\n",
      "[[11039  2605  4840]\n",
      " [ 1961   926  1934]\n",
      " [  576   258   987]]\n"
     ]
    },
    {
     "data": {
      "image/png": "[encoded data removed]",
      "text/plain": [
       "<matplotlib.figure.Figure at 0x1a15572780>"
      ]
     },
     "metadata": {},
     "output_type": "display_data"
    }
   ],
   "source": [
    "def forest():\n",
    "    \n",
    "    #prepare c-values for cross validation\n",
    "    cVal = [2, 3, 4, 5]\n",
    "    \n",
    "    print('------------------------RANDOM FOREST:------------------------')\n",
    "    print('');\n",
    "    print('Cross-Validation: means & stds for given');\n",
    "    #define the classifier\n",
    "    cv_forestClass = RandomForestClassifier(class_weight=\"balanced\", n_estimators=80, max_features=0.3, max_depth=8)\n",
    "    #use GridSearchCV to generate the best c-value for a classifier, from the cVal array\n",
    "    cv_forest = GridSearchCV(estimator=cv_forestClass, param_grid = dict(min_samples_split=cVal), cv=10, scoring='accuracy')\n",
    "    #fit the data\n",
    "    cv_forest.fit(X_train, y_train)\n",
    "    #print the mean and s.dev. scores for every c-value for comparison\n",
    "    means_cv_forest = cv_forest.cv_results_['mean_test_score']\n",
    "    stds_cv_forest = cv_forest.cv_results_['std_test_score']\n",
    "    \n",
    "    #plot the mean accuracies for logistic regression CV\n",
    "    ax1 = plt.subplot(\"211\")\n",
    "    ax1.set_title(\"Average results for random forest CV\")\n",
    "    ax1.set_ylabel('avg accuracy in CV')\n",
    "    ax1.set_xlabel('regularization parameter')\n",
    "    ax1.plot(cVal, means_cv_forest)\n",
    "    print()\n",
    "    \n",
    "    #get the best c-value from grid search\n",
    "    best = cv_forest.best_params_['min_samples_split']\n",
    "    #define logistic regression using the best value\n",
    "    cv_forestBest = RandomForestClassifier(min_samples_split=best, class_weight=\"balanced\", n_estimators=80, max_features=0.3, max_depth=8)\n",
    "    #fit the training data\n",
    "    cv_forestBest.fit(X_train, y_train)\n",
    "    #get the estimates\n",
    "    predicted = cv_forestBest.predict(X_test)\n",
    "    \n",
    "    print('Best score: {}'.format(best))\n",
    "    print()\n",
    "    print('Classification report for the best c-parameter (test set):')\n",
    "    print(classification_report(y_test, predicted))\n",
    "    print()\n",
    "    print('Confusion matrix for the best c-parameter (test set):')\n",
    "    print(metrics.confusion_matrix(y_test, predicted))\n",
    "    \n",
    "forest()"
   ]
  },
  {
   "cell_type": "code",
   "execution_count": 57,
   "metadata": {},
   "outputs": [
    {
     "name": "stdout",
     "output_type": "stream",
     "text": [
      "------------------------LOGISTIC REGRESSION:------------------------\n",
      "\n",
      "Cross-Validation: means & stds for given c-values\n",
      "\n",
      "Best score: 0.0001\n",
      "\n",
      "Classification report for the best c-parameter (train set):\n",
      "             precision    recall  f1-score   support\n",
      "\n",
      "          0       0.80      0.95      0.87     45408\n",
      "          1       0.21      0.01      0.03      6063\n",
      "          2       0.20      0.10      0.13      5958\n",
      "\n",
      "avg / total       0.68      0.76      0.70     57429\n",
      "\n",
      "\n",
      "Confusion matrix for the best c-parameter (test set):\n",
      "[[43225   263  1920]\n",
      " [ 5570    90   403]\n",
      " [ 5287    73   598]]\n",
      "\n",
      "Classification report for the best c-parameter (test set):\n",
      "             precision    recall  f1-score   support\n",
      "\n",
      "          0       0.80      0.95      0.87     11315\n",
      "          1       0.23      0.01      0.03      1527\n",
      "          2       0.22      0.11      0.15      1516\n",
      "\n",
      "avg / total       0.68      0.76      0.70     14358\n",
      "\n",
      "\n",
      "Confusion matrix for the best c-parameter (test set):\n",
      "[[10771    50   494]\n",
      " [ 1400    21   106]\n",
      " [ 1327    19   170]]\n"
     ]
    },
    {
     "data": {
      "image/png": "[encoded data removed]",
      "text/plain": [
       "<matplotlib.figure.Figure at 0x10ab03a58>"
      ]
     },
     "metadata": {},
     "output_type": "display_data"
    }
   ],
   "source": [
    "def logRegr():\n",
    "    \n",
    "    #prepare c-values for cross validation\n",
    "    cVal = [0.0001, 0.0003, 0.001, 0.003, 0.01, 0.03, 0.1, 0.3, 0.5, 1.]\n",
    "    \n",
    "    print('------------------------LOGISTIC REGRESSION:------------------------')\n",
    "    print('');\n",
    "    print('Cross-Validation: means & stds for given c-values');\n",
    "    #define the classifier\n",
    "    cv_regClass = LogisticRegression(class_weight=\"balanced\")\n",
    "    #use GridSearchCV to generate the best c-value for a classifier, from the cVal array\n",
    "    cv_reg = GridSearchCV(estimator=cv_regClass, param_grid = dict(C=cVal), cv=10, scoring='accuracy')\n",
    "    #fit the data\n",
    "    cv_reg.fit(X_train, y_train)\n",
    "    #print the mean and s.dev. scores for every c-value for comparison\n",
    "    means_cv_reg = cv_reg.cv_results_['mean_test_score']\n",
    "    stds_cv_reg = cv_reg.cv_results_['std_test_score']\n",
    "    \n",
    "    #plot the mean accuracies for logistic regression CV\n",
    "    ax1 = plt.subplot(\"211\")\n",
    "    ax1.set_title(\"Average results for logistic regression CV\")\n",
    "    ax1.set_ylabel('avg accuracy in CV')\n",
    "    ax1.set_xlabel('regularization parameter')\n",
    "    ax1.plot(cVal, means_cv_reg)\n",
    "    print()\n",
    "    \n",
    "    #get the best c-value from grid search\n",
    "    best = cv_reg.best_params_['C']\n",
    "    #define logistic regression using the best value\n",
    "    cv_regBest = LogisticRegression(C=best, class_weight=\"balanced\")\n",
    "    #fit the training data\n",
    "    cv_regBest.fit(X_train, y_train)\n",
    "    #get the estimates\n",
    "    predictedtrain = cv_regBest.predict(X_train)\n",
    "    predictedtest = cv_regBest.predict(X_test)\n",
    "    \n",
    "    print('Best score: {}'.format(best))\n",
    "    print()\n",
    "    print('Classification report for the best c-parameter (train set):')\n",
    "    print(classification_report(y_train, predictedtrain))\n",
    "    print()\n",
    "    print('Confusion matrix for the best c-parameter (test set):')\n",
    "    print(metrics.confusion_matrix(y_train, predictedtrain))\n",
    "    print()\n",
    "    print('Classification report for the best c-parameter (test set):')\n",
    "    print(classification_report(y_test, predictedtest))\n",
    "    print()\n",
    "    print('Confusion matrix for the best c-parameter (test set):')\n",
    "    print(metrics.confusion_matrix(y_test, predictedtest))\n",
    "    \n",
    "logRegr()"
   ]
  },
  {
   "cell_type": "code",
   "execution_count": 54,
   "metadata": {},
   "outputs": [
    {
     "name": "stdout",
     "output_type": "stream",
     "text": [
      "------------------------NEURAL NETWORK:------------------------\n",
      "\n",
      "Cross-Validation: means & stds for given\n",
      "\n",
      "Best score: (10, 10, 10)\n",
      "\n",
      "Classification report for the best c-parameter (train set):\n",
      "             precision    recall  f1-score   support\n",
      "\n",
      "          0       0.73      1.00      0.85     34166\n",
      "          1       0.46      0.00      0.01      9169\n",
      "          2       0.00      0.00      0.00      3326\n",
      "\n",
      "avg / total       0.63      0.73      0.62     46661\n",
      "\n",
      "\n",
      "Confusion matrix for the best c-parameter (train set):\n",
      "[[34125    41     0]\n",
      " [ 9129    40     0]\n",
      " [ 3320     6     0]]\n",
      "Classification report for the best c-parameter (test set):\n",
      "             precision    recall  f1-score   support\n",
      "\n",
      "          0       0.74      1.00      0.85     18484\n",
      "          1       0.26      0.00      0.00      4821\n",
      "          2       0.00      0.00      0.00      1821\n",
      "\n",
      "avg / total       0.59      0.73      0.62     25126\n",
      "\n",
      "\n",
      "Confusion matrix for the best c-parameter (test set):\n"
     ]
    },
    {
     "name": "stderr",
     "output_type": "stream",
     "text": [
      "/Users/konradkrawczyk/anaconda/lib/python3.6/site-packages/sklearn/metrics/classification.py:1135: UndefinedMetricWarning: Precision and F-score are ill-defined and being set to 0.0 in labels with no predicted samples.\n",
      "  'precision', 'predicted', average, warn_for)\n"
     ]
    },
    {
     "name": "stdout",
     "output_type": "stream",
     "text": [
      "[[18452    32     0]\n",
      " [ 4809    12     0]\n",
      " [ 1819     2     0]]\n"
     ]
    },
    {
     "data": {
      "image/png": "[encoded data removed]",
      "text/plain": [
       "<matplotlib.figure.Figure at 0x11146f7f0>"
      ]
     },
     "metadata": {},
     "output_type": "display_data"
    }
   ],
   "source": [
    "def mlp():\n",
    "    \n",
    "\n",
    "    #prepare c-values for cross validation\n",
    "    hidden = [(10,10,10), (20,20,20), (30,30,30)] # NOTE (2,) is a single layer with 2 nodes\n",
    "    \n",
    "    print('------------------------NEURAL NETWORK:------------------------')\n",
    "    print('');\n",
    "    print('Cross-Validation: means & stds for given');\n",
    "    #define the classifier\n",
    "    cv_mlpClass = MLPClassifier()\n",
    "    #use GridSearchCV to generate the best c-value for a classifier, from the cVal array\n",
    "    cv_mlp = GridSearchCV(estimator=cv_mlpClass, param_grid = dict(hidden_layer_sizes=hidden), cv=10, scoring='accuracy')\n",
    "    #fit the data\n",
    "    cv_mlp.fit(X_train, y_train)\n",
    "    #print the mean and s.dev. scores for every c-value for comparison\n",
    "    means_cv_mlp = cv_mlp.cv_results_['mean_test_score']\n",
    "    stds_cv_mlp = cv_mlp.cv_results_['std_test_score']\n",
    "    #for mean, std, params in zip(means_cv_reg, stds_cv_reg, cv_reg.cv_results_['params']):\n",
    "        #print(\"Mean: %0.5f | Standard Deviation:(+/-%0.03f) | for %r\" % (mean, std * 2, params))\n",
    "    #print()\n",
    "    \n",
    "    #plot the mean accuracies for logistic regression CV\n",
    "    ax1 = plt.subplot(\"211\")\n",
    "    ax1.set_title(\"Average results for logistic regression CV\")\n",
    "    ax1.set_ylabel('avg accuracy in CV')\n",
    "    ax1.set_xlabel('regularization parameter')\n",
    "    ax1.plot(hidden, means_cv_mlp)\n",
    "    print()\n",
    "    \n",
    "    #get the best c-value from grid search\n",
    "    best = cv_mlp.best_params_['hidden_layer_sizes']\n",
    "    #define logistic regression using the best value\n",
    "    cv_mlpBest = MLPClassifier(hidden_layer_sizes=best)\n",
    "    #fit the training data\n",
    "    cv_mlpBest.fit(X_train, y_train)\n",
    "    #get the estimates\n",
    "    predictedtrain = cv_mlpBest.predict(X_train)\n",
    "    predictedtest = cv_mlpBest.predict(X_test)\n",
    "    \n",
    "    print('Best score: {}'.format(best))\n",
    "    print()\n",
    "    print('Classification report for the best c-parameter (train set):')\n",
    "    print(classification_report(y_train, predictedtrain))\n",
    "    print()\n",
    "    print('Confusion matrix for the best c-parameter (train set):')\n",
    "    print(metrics.confusion_matrix(y_train, predictedtrain))\n",
    "    print('Classification report for the best c-parameter (test set):')\n",
    "    print(classification_report(y_test, predictedtest))\n",
    "    print()\n",
    "    print('Confusion matrix for the best c-parameter (test set):')\n",
    "    print(metrics.confusion_matrix(y_test, predictedtest))\n",
    "    \n",
    "mlp()"
   ]
  },
  {
   "cell_type": "code",
   "execution_count": 45,
   "metadata": {},
   "outputs": [
    {
     "name": "stdout",
     "output_type": "stream",
     "text": [
      "------------------------NEURAL NETWORK:------------------------\n",
      "\n",
      "[[166930   1163    499]\n",
      " [ 49854   1568    483]\n",
      " [ 24424    809    974]]\n",
      "             precision    recall  f1-score   support\n",
      "\n",
      "          0       0.69      0.99      0.81    168592\n",
      "          1       0.44      0.03      0.06     51905\n",
      "          2       0.50      0.04      0.07     26207\n",
      "\n",
      "avg / total       0.62      0.69      0.58    246704\n",
      "\n",
      "[[89479   854   365]\n",
      " [27213   668   218]\n",
      " [13290   379   375]]\n",
      "             precision    recall  f1-score   support\n",
      "\n",
      "          0       0.69      0.99      0.81     90698\n",
      "          1       0.35      0.02      0.04     28099\n",
      "          2       0.39      0.03      0.05     14044\n",
      "\n",
      "avg / total       0.59      0.68      0.57    132841\n",
      "\n"
     ]
    }
   ],
   "source": [
    "def mlp():\n",
    "        \n",
    "    print('------------------------NEURAL NETWORK:------------------------')\n",
    "    print('');\n",
    "\n",
    "    #define logistic regression using the best value\n",
    "    cv_mlpBest = MLPClassifier(hidden_layer_sizes=(30,30,30), solver='adam', alpha=1e-4)  #fit the training data\n",
    "    cv_mlpBest.fit(X_train, y_train)\n",
    "    #get the estimates\n",
    "    predictedtrain = cv_mlpBest.predict(X_train)\n",
    "    print(metrics.confusion_matrix(y_train, predictedtrain))\n",
    "    print(classification_report(y_train, predictedtrain))\n",
    "    predictedtest = cv_mlpBest.predict(X_test)\n",
    "    print(metrics.confusion_matrix(y_test, predictedtest))\n",
    "    print(classification_report(y_test, predictedtest))\n",
    "mlp()"
   ]
  },
  {
   "cell_type": "code",
   "execution_count": null,
   "metadata": {
    "collapsed": true
   },
   "outputs": [],
   "source": [
    "from sklearn.ensemble import RandomForestClassifier\n",
    "forest_reg = RandomForestClassifier(min_samples_split=2, class_weight=\"balanced\", n_estimators=50, max_features=0.3, max_depth=8)\n",
    "forest_reg.fit(X_train,y_train)"
   ]
  },
  {
   "cell_type": "code",
   "execution_count": null,
   "metadata": {
    "collapsed": true
   },
   "outputs": [],
   "source": [
    "print(metrics.confusion_matrix(y_train,(forest_reg.predict(X_train))))\n",
    "print(classification_report(y_train,(forest_reg.predict(X_train))))"
   ]
  },
  {
   "cell_type": "code",
   "execution_count": null,
   "metadata": {
    "collapsed": true
   },
   "outputs": [],
   "source": [
    "print(metrics.confusion_matrix(y_test,(forest_reg.predict(X_test))))\n",
    "print(classification_report(y_test,(forest_reg.predict(X_test))))"
   ]
  },
  {
   "cell_type": "code",
   "execution_count": null,
   "metadata": {
    "collapsed": true
   },
   "outputs": [],
   "source": []
  },
  {
   "cell_type": "code",
   "execution_count": null,
   "metadata": {
    "collapsed": true
   },
   "outputs": [],
   "source": []
  }
 ],
 "metadata": {
  "kernelspec": {
   "display_name": "Python 3",
   "language": "python",
   "name": "python3"
  },
  "language_info": {
   "codemirror_mode": {
    "name": "ipython",
    "version": 3
   },
   "file_extension": ".py",
   "mimetype": "text/x-python",
   "name": "python",
   "nbconvert_exporter": "python",
   "pygments_lexer": "ipython3",
   "version": "3.6.1"
  }
 },
 "nbformat": 4,
 "nbformat_minor": 2
}
