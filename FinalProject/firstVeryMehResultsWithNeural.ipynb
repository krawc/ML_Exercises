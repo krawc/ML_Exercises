{
 "cells": [
  {
   "cell_type": "code",
   "execution_count": 15,
   "metadata": {},
   "outputs": [
    {
     "name": "stdout",
     "output_type": "stream",
     "text": [
      "Populating the interactive namespace from numpy and matplotlib\n"
     ]
    }
   ],
   "source": [
    "%pylab inline\n",
    "from sklearn import metrics\n",
    "from sklearn.model_selection import train_test_split #to split in train and test set\n",
    "from sklearn.linear_model import LogisticRegression #logistic regression classifier\n",
    "from sklearn.svm import LinearSVC\n",
    "from sklearn.ensemble import RandomForestClassifier\n",
    "from sklearn.preprocessing import StandardScaler\n",
    "from sklearn.neural_network import MLPClassifier\n",
    "from sklearn.model_selection import GridSearchCV, cross_val_score #BONUS: to tune parameters using cross-validation\n",
    "from sklearn.metrics import classification_report\n",
    "import matplotlib.pyplot as plt\n",
    "import numpy as np\n",
    "import pandas as pd\n",
    "from sklearn import preprocessing"
   ]
  },
  {
   "cell_type": "code",
   "execution_count": 17,
   "metadata": {},
   "outputs": [
    {
     "name": "stderr",
     "output_type": "stream",
     "text": [
      "/Users/konradkrawczyk/anaconda/lib/python3.6/site-packages/sklearn/utils/validation.py:475: DataConversionWarning: Data with input dtype int64 was converted to float64 by StandardScaler.\n",
      "  warnings.warn(msg, DataConversionWarning)\n"
     ]
    }
   ],
   "source": [
    "#Data is a bunch of columns with different features.\n",
    "#1 - month\n",
    "#3 - day of the week\n",
    "#4 - airline\n",
    "#7 - departure airport\n",
    "#8 - arrival airport\n",
    "#9 - departure time\n",
    "#and also target:\n",
    "#11 - delay time -> later converted into 0-1 value of delay/ontime\n",
    "\n",
    "my_data = pd.read_csv('selectedsmalldataset.csv', usecols=[1,3,4,7,8,9,11])\n",
    "\n",
    "# Create a set of dummy variables from the variable. \n",
    "# They say all over the internets that this is how you're supposed to handle categorical vars like strings etc.\n",
    "df_dummies = pd.get_dummies(my_data.iloc[:,[2,3,4]])\n",
    "\n",
    "#convert hours and minutes to just hours\n",
    "for index, row in my_data.iterrows():\n",
    "    row[5] = np.ceil(flights['SCHEDULED_DEPARTURE']/600).apply(int)\n",
    "    math.floor(int(row[5])/100)\n",
    "    \n",
    "days_in_month = np.array([31,28,31,30,31,30,31,31,30,31,30,31])\n",
    "def day_31_to_365(x):\n",
    "    days_365 = days_in_month[:x['MONTH']-1].sum() + x['DAY']\n",
    "    return days_365\n",
    "\n",
    "#get values for the target (delay on departure)\n",
    "yVal = np.array(my_data.iloc[:,[6]]).reshape(shape(my_data)[0],)\n",
    "y = []\n",
    "\n",
    "#delay has three values: no delay (0), slight delay (1) and significant delay (2)\n",
    "for value in yVal:\n",
    "    if value <=10:\n",
    "        tgt = 0\n",
    "    elif value <=30:\n",
    "        tgt = 1\n",
    "    else:\n",
    "        tgt = 2\n",
    "    y.append(tgt)\n",
    "\n",
    "\n",
    "#remove targets and columns that were converted into dummy variables\n",
    "my_data = my_data.drop(my_data.columns[[2, 3, 4, 6]], axis=1)\n",
    "\n",
    "#concat my_data and dummies and generate a np.ndarray of features\n",
    "df_new = pd.concat([my_data, df_dummies], axis=1)\n",
    "X = df_new.values\n",
    "\n",
    "scaler = StandardScaler()\n",
    "X = scaler.fit_transform(X)\n",
    "\n",
    "#split the data into training and test\n",
    "X_train, X_test, y_train, y_test = train_test_split(X, y, test_size=0.33)\n",
    "\n"
   ]
  },
  {
   "cell_type": "code",
   "execution_count": null,
   "metadata": {},
   "outputs": [],
   "source": [
    "def svm():\n",
    "    \n",
    "    #prepare c-values for cross validation\n",
    "    cVal = [0.01, 0.03, 0.1, 0.3]\n",
    "    \n",
    "    print('------------------------SUPPORT VECTOR MACHINE:------------------------')\n",
    "    print('');\n",
    "    print('Cross-Validation: means & stds for given c-values');\n",
    "    #define the classifier\n",
    "    cv_svmClass = LinearSVC(class_weight=\"balanced\")\n",
    "    #use GridSearchCV to generate the best c-value for a classifier, from the cVal array\n",
    "    cv_svm = GridSearchCV(estimator=cv_svmClass, param_grid = dict(C=cVal), cv=10, scoring='accuracy')\n",
    "    cv_svm.fit(X_train, y_train)\n",
    "    #print the mean and s.dev. scores for every c-value for comparison\n",
    "    means_cv_svm = cv_svm.cv_results_['mean_test_score']\n",
    "    stds_cv_svm = cv_svm.cv_results_['std_test_score']\n",
    "\n",
    "    #fit the data\n",
    "    #get the best c-value from grid search\n",
    "    best = cv_svm.best_params_['C']\n",
    "\n",
    "    #define logistic regression using the best value\n",
    "    cv_svmBest = LinearSVC(C=best, class_weight=\"balanced\")\n",
    "    #fit the training data\n",
    "    cv_svmBest.fit(X_train, y_train)\n",
    "    #get the estimates\n",
    "    predicted = cv_svmBest.predict(X_test)\n",
    "    \n",
    "    print('Best score: {}'.format(best))\n",
    "    print()\n",
    "    print('Classification report for the best c-parameter (test set):')\n",
    "    print(classification_report(y_test, predicted))\n",
    "    print()\n",
    "    print('Confusion matrix for the best c-parameter (test set):')\n",
    "    print(metrics.confusion_matrix(y_test, predicted))\n",
    "    \n",
    "svm()"
   ]
  },
  {
   "cell_type": "code",
   "execution_count": 13,
   "metadata": {
    "scrolled": true
   },
   "outputs": [
    {
     "name": "stdout",
     "output_type": "stream",
     "text": [
      "------------------------RANDOM FOREST:------------------------\n",
      "\n",
      "Cross-Validation: means & stds for given\n",
      "\n",
      "Best score: 2\n",
      "\n",
      "Classification report for the best c-parameter (test set):\n",
      "             precision    recall  f1-score   support\n",
      "\n",
      "          0       0.79      0.94      0.86     18505\n",
      "          1       0.19      0.06      0.09      2653\n",
      "          2       0.21      0.06      0.10      2532\n",
      "\n",
      "avg / total       0.66      0.75      0.69     23690\n",
      "\n",
      "\n",
      "Confusion matrix for the best c-parameter (test set):\n",
      "[[17463   578   464]\n",
      " [ 2339   161   153]\n",
      " [ 2242   127   163]]\n"
     ]
    },
    {
     "data": {
      "image/png": "[encoded data removed]",
      "text/plain": [
       "<matplotlib.figure.Figure at 0x1093f2550>"
      ]
     },
     "metadata": {},
     "output_type": "display_data"
    }
   ],
   "source": [
    "def forest():\n",
    "    \n",
    "    #prepare c-values for cross validation\n",
    "    cVal = [2, 5, 8, 10, 12, 14]\n",
    "    \n",
    "    print('------------------------RANDOM FOREST:------------------------')\n",
    "    print('');\n",
    "    print('Cross-Validation: means & stds for given');\n",
    "    #define the classifier\n",
    "    cv_forestClass = RandomForestClassifier(class_weight=\"balanced\")\n",
    "    #use GridSearchCV to generate the best c-value for a classifier, from the cVal array\n",
    "    cv_forest = GridSearchCV(estimator=cv_forestClass, param_grid = dict(min_samples_split=cVal), cv=10, scoring='accuracy')\n",
    "    #fit the data\n",
    "    cv_forest.fit(X_train, y_train)\n",
    "    #print the mean and s.dev. scores for every c-value for comparison\n",
    "    means_cv_forest = cv_forest.cv_results_['mean_test_score']\n",
    "    stds_cv_forest = cv_forest.cv_results_['std_test_score']\n",
    "    #for mean, std, params in zip(means_cv_reg, stds_cv_reg, cv_reg.cv_results_['params']):\n",
    "        #print(\"Mean: %0.5f | Standard Deviation:(+/-%0.03f) | for %r\" % (mean, std * 2, params))\n",
    "    #print()\n",
    "    \n",
    "    #plot the mean accuracies for logistic regression CV\n",
    "    ax1 = plt.subplot(\"211\")\n",
    "    ax1.set_title(\"Average results for logistic regression CV\")\n",
    "    ax1.set_ylabel('avg accuracy in CV')\n",
    "    ax1.set_xlabel('regularization parameter')\n",
    "    ax1.plot(cVal, means_cv_forest)\n",
    "    print()\n",
    "    \n",
    "    #get the best c-value from grid search\n",
    "    best = cv_forest.best_params_['min_samples_split']\n",
    "    #define logistic regression using the best value\n",
    "    cv_forestBest = RandomForestClassifier(min_samples_split=best, class_weight=\"balanced\")\n",
    "    #fit the training data\n",
    "    cv_forestBest.fit(X_train, y_train)\n",
    "    #get the estimates\n",
    "    predicted = cv_forestBest.predict(X_test)\n",
    "    \n",
    "    print('Best score: {}'.format(best))\n",
    "    print()\n",
    "    print('Classification report for the best c-parameter (test set):')\n",
    "    print(classification_report(y_test, predicted))\n",
    "    print()\n",
    "    print('Confusion matrix for the best c-parameter (test set):')\n",
    "    print(metrics.confusion_matrix(y_test, predicted))\n",
    "    \n",
    "forest()"
   ]
  },
  {
   "cell_type": "code",
   "execution_count": 65,
   "metadata": {},
   "outputs": [
    {
     "name": "stdout",
     "output_type": "stream",
     "text": [
      "------------------------LOGISTIC REGRESSION:------------------------\n",
      "\n",
      "Cross-Validation: means & stds for given c-values\n",
      "\n",
      "Best score: 0.01\n",
      "\n",
      "Classification report for the best c-parameter (test set):\n",
      "             precision    recall  f1-score   support\n",
      "\n",
      "          0       0.79      0.96      0.87      3063\n",
      "          1       0.29      0.01      0.02       429\n",
      "          2       0.17      0.07      0.10       431\n",
      "\n",
      "avg / total       0.67      0.76      0.69      3923\n",
      "\n",
      "\n",
      "Confusion matrix for the best c-parameter (test set):\n",
      "[[2939    7  117]\n",
      " [ 392    5   32]\n",
      " [ 395    5   31]]\n"
     ]
    },
    {
     "data": {
      "image/png": "[encoded data removed]",
      "text/plain": [
       "<matplotlib.figure.Figure at 0x1103b6a20>"
      ]
     },
     "metadata": {},
     "output_type": "display_data"
    }
   ],
   "source": [
    "def logRegr():\n",
    "    \n",
    "    #prepare c-values for cross validation\n",
    "    cVal = [0.01, 0.03, 0.1, 0.3, 0.5, 1., 3., 5., 10.]\n",
    "    \n",
    "    print('------------------------LOGISTIC REGRESSION:------------------------')\n",
    "    print('');\n",
    "    print('Cross-Validation: means & stds for given c-values');\n",
    "    #define the classifier\n",
    "    cv_regClass = LogisticRegression(class_weight=\"balanced\")\n",
    "    #use GridSearchCV to generate the best c-value for a classifier, from the cVal array\n",
    "    cv_reg = GridSearchCV(estimator=cv_regClass, param_grid = dict(C=cVal), cv=10, scoring='accuracy')\n",
    "    #fit the data\n",
    "    cv_reg.fit(X_train, y_train)\n",
    "    #print the mean and s.dev. scores for every c-value for comparison\n",
    "    means_cv_reg = cv_reg.cv_results_['mean_test_score']\n",
    "    stds_cv_reg = cv_reg.cv_results_['std_test_score']\n",
    "    #for mean, std, params in zip(means_cv_reg, stds_cv_reg, cv_reg.cv_results_['params']):\n",
    "        #print(\"Mean: %0.5f | Standard Deviation:(+/-%0.03f) | for %r\" % (mean, std * 2, params))\n",
    "    #print()\n",
    "    \n",
    "    #plot the mean accuracies for logistic regression CV\n",
    "    ax1 = plt.subplot(\"211\")\n",
    "    ax1.set_title(\"Average results for logistic regression CV\")\n",
    "    ax1.set_ylabel('avg accuracy in CV')\n",
    "    ax1.set_xlabel('regularization parameter')\n",
    "    ax1.plot(cVal, means_cv_reg)\n",
    "    print()\n",
    "    \n",
    "    #get the best c-value from grid search\n",
    "    best = cv_reg.best_params_['C']\n",
    "    #define logistic regression using the best value\n",
    "    cv_regBest = LogisticRegression(C=best, class_weight=\"balanced\")\n",
    "    #fit the training data\n",
    "    cv_regBest.fit(X_train, y_train)\n",
    "    #get the estimates\n",
    "    predicted = cv_regBest.predict(X_test)\n",
    "    \n",
    "    print('Best score: {}'.format(best))\n",
    "    print()\n",
    "    print('Classification report for the best c-parameter (test set):')\n",
    "    print(classification_report(y_test, predicted))\n",
    "    print()\n",
    "    print('Confusion matrix for the best c-parameter (test set):')\n",
    "    print(metrics.confusion_matrix(y_test, predicted))\n",
    "    \n",
    "logRegr()"
   ]
  },
  {
   "cell_type": "code",
   "execution_count": 18,
   "metadata": {},
   "outputs": [
    {
     "name": "stdout",
     "output_type": "stream",
     "text": [
      "------------------------NEURAL NETWORK:------------------------\n",
      "\n",
      "Cross-Validation: means & stds for given\n",
      "\n",
      "Best score: (5,)\n",
      "\n",
      "Classification report for the best c-parameter (test set):\n",
      "             precision    recall  f1-score   support\n",
      "\n",
      "          0       0.78      1.00      0.88     18553\n",
      "          1       0.00      0.00      0.00      2639\n",
      "          2       0.13      0.00      0.00      2498\n",
      "\n",
      "avg / total       0.63      0.78      0.69     23690\n",
      "\n",
      "\n",
      "Confusion matrix for the best c-parameter (test set):\n",
      "[[18535     0    18]\n",
      " [ 2630     0     9]\n",
      " [ 2494     0     4]]\n"
     ]
    },
    {
     "name": "stderr",
     "output_type": "stream",
     "text": [
      "/Users/konradkrawczyk/anaconda/lib/python3.6/site-packages/sklearn/metrics/classification.py:1135: UndefinedMetricWarning: Precision and F-score are ill-defined and being set to 0.0 in labels with no predicted samples.\n",
      "  'precision', 'predicted', average, warn_for)\n"
     ]
    },
    {
     "data": {
      "image/png": "[encoded data removed]",
      "text/plain": [
       "<matplotlib.figure.Figure at 0x10a4487b8>"
      ]
     },
     "metadata": {},
     "output_type": "display_data"
    }
   ],
   "source": [
    "def mlp():\n",
    "    \n",
    "\n",
    "    #prepare c-values for cross validation\n",
    "    hidden = [(5,), (10,), (20,)]\n",
    "    \n",
    "    print('------------------------NEURAL NETWORK:------------------------')\n",
    "    print('');\n",
    "    print('Cross-Validation: means & stds for given');\n",
    "    #define the classifier\n",
    "    cv_mlpClass = MLPClassifier()\n",
    "    #use GridSearchCV to generate the best c-value for a classifier, from the cVal array\n",
    "    cv_mlp = GridSearchCV(estimator=cv_mlpClass, param_grid = dict(hidden_layer_sizes=hidden), cv=10, scoring='accuracy')\n",
    "    #fit the data\n",
    "    cv_mlp.fit(X_train, y_train)\n",
    "    #print the mean and s.dev. scores for every c-value for comparison\n",
    "    means_cv_mlp = cv_mlp.cv_results_['mean_test_score']\n",
    "    stds_cv_mlp = cv_mlp.cv_results_['std_test_score']\n",
    "    #for mean, std, params in zip(means_cv_reg, stds_cv_reg, cv_reg.cv_results_['params']):\n",
    "        #print(\"Mean: %0.5f | Standard Deviation:(+/-%0.03f) | for %r\" % (mean, std * 2, params))\n",
    "    #print()\n",
    "    \n",
    "    #plot the mean accuracies for logistic regression CV\n",
    "    ax1 = plt.subplot(\"211\")\n",
    "    ax1.set_title(\"Average results for nn CV\")\n",
    "    ax1.set_ylabel('avg accuracy in CV')\n",
    "    ax1.set_xlabel('hidden layer number')\n",
    "    ax1.plot(hidden, means_cv_mlp)\n",
    "    print()\n",
    "    \n",
    "    #get the best c-value from grid search\n",
    "    best = cv_mlp.best_params_['hidden_layer_sizes']\n",
    "    #define logistic regression using the best value\n",
    "    cv_mlpBest = MLPClassifier(hidden_layer_sizes=best)\n",
    "    #fit the training data\n",
    "    cv_mlpBest.fit(X_train, y_train)\n",
    "    #get the estimates\n",
    "    predicted = cv_mlpBest.predict(X_test)\n",
    "    \n",
    "    print('Best score: {}'.format(best))\n",
    "    print()\n",
    "    print('Classification report for the best hidden layer number (test set):')\n",
    "    print(classification_report(y_test, predicted))\n",
    "    print()\n",
    "    print('Confusion matrix for the best hidden layer number (test set):')\n",
    "    print(metrics.confusion_matrix(y_test, predicted))\n",
    "    \n",
    "mlp()"
   ]
  },
  {
   "cell_type": "code",
   "execution_count": null,
   "metadata": {
    "collapsed": true
   },
   "outputs": [],
   "source": []
  }
 ],
 "metadata": {
  "kernelspec": {
   "display_name": "Python 3",
   "language": "python",
   "name": "python3"
  },
  "language_info": {
   "codemirror_mode": {
    "name": "ipython",
    "version": 3
   },
   "file_extension": ".py",
   "mimetype": "text/x-python",
   "name": "python",
   "nbconvert_exporter": "python",
   "pygments_lexer": "ipython3",
   "version": "3.6.1"
  }
 },
 "nbformat": 4,
 "nbformat_minor": 2
}
