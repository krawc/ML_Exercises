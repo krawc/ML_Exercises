{
 "cells": [
  {
   "cell_type": "markdown",
   "metadata": {},
   "source": [
    "## American Intercontinental Flights"
   ]
  },
  {
   "cell_type": "markdown",
   "metadata": {},
   "source": [
    "by: Konrad Krawczyk and Dorian Buijse"
   ]
  },
  {
   "cell_type": "code",
   "execution_count": 21,
   "metadata": {
    "collapsed": true
   },
   "outputs": [],
   "source": [
    "import csv\n",
    "import pandas as pd\n",
    "from collections import Counter\n",
    "from tempfile import NamedTemporaryFile\n",
    "import shutil\n"
   ]
  },
  {
   "cell_type": "markdown",
   "metadata": {},
   "source": [
    "Problem with the data, oktober used a 5 number classification for the airports instead of the standard 3 letter one. To fix this we used the following script."
   ]
  },
  {
   "cell_type": "code",
   "execution_count": 3,
   "metadata": {},
   "outputs": [
    {
     "ename": "FileNotFoundError",
     "evalue": "[Errno 2] No such file or directory: './L_AIRPORT.csv'",
     "output_type": "error",
     "traceback": [
      "\u001b[0;31m---------------------------------------------------------------------------\u001b[0m",
      "\u001b[0;31mFileNotFoundError\u001b[0m                         Traceback (most recent call last)",
      "\u001b[0;32m<ipython-input-3-0e613fa6ea94>\u001b[0m in \u001b[0;36m<module>\u001b[0;34m()\u001b[0m\n\u001b[0;32m----> 1\u001b[0;31m \u001b[0mpropercodes\u001b[0m \u001b[0;34m=\u001b[0m \u001b[0mcsv\u001b[0m\u001b[0;34m.\u001b[0m\u001b[0mreader\u001b[0m\u001b[0;34m(\u001b[0m\u001b[0mopen\u001b[0m\u001b[0;34m(\u001b[0m\u001b[0;34m\"./L_AIRPORT.csv\"\u001b[0m\u001b[0;34m)\u001b[0m\u001b[0;34m)\u001b[0m\u001b[0;34m\u001b[0m\u001b[0m\n\u001b[0m\u001b[1;32m      2\u001b[0m \u001b[0mnumbertoairport\u001b[0m \u001b[0;34m=\u001b[0m \u001b[0mcsv\u001b[0m\u001b[0;34m.\u001b[0m\u001b[0mreader\u001b[0m\u001b[0;34m(\u001b[0m\u001b[0mopen\u001b[0m\u001b[0;34m(\u001b[0m\u001b[0;34m\"./L_AIRPORT_ID.csv\"\u001b[0m\u001b[0;34m)\u001b[0m\u001b[0;34m)\u001b[0m\u001b[0;34m\u001b[0m\u001b[0m\n\u001b[1;32m      3\u001b[0m \u001b[0mprpcode\u001b[0m \u001b[0;34m=\u001b[0m \u001b[0mdict\u001b[0m\u001b[0;34m(\u001b[0m\u001b[0;34m)\u001b[0m\u001b[0;34m\u001b[0m\u001b[0m\n\u001b[1;32m      4\u001b[0m \u001b[0mnumtoair\u001b[0m \u001b[0;34m=\u001b[0m \u001b[0mdict\u001b[0m\u001b[0;34m(\u001b[0m\u001b[0;34m)\u001b[0m\u001b[0;34m\u001b[0m\u001b[0m\n\u001b[1;32m      5\u001b[0m \u001b[0;34m\u001b[0m\u001b[0m\n",
      "\u001b[0;31mFileNotFoundError\u001b[0m: [Errno 2] No such file or directory: './L_AIRPORT.csv'"
     ]
    }
   ],
   "source": [
    "propercodes = csv.reader(open(\"./L_AIRPORT.csv\"))\n",
    "numbertoairport = csv.reader(open(\"./L_AIRPORT_ID.csv\"))\n",
    "prpcode = dict()\n",
    "numtoair = dict()\n",
    "\n",
    "for line in propercodes:\n",
    "    prpcode[line[-1]] = line[0]\n",
    "\n",
    "for line in numbertoairport:\n",
    "    numtoair[line[0]] = line[-1]\n",
    "    \n",
    "def numbertoiata(number):\n",
    "    return prpcode[numtoair[number]]"
   ]
  },
  {
   "cell_type": "markdown",
   "metadata": {},
   "source": [
    "Now to create the new dataset where all faulty classifications are fixed. (Only Oktober is faulty)"
   ]
  },
  {
   "cell_type": "code",
   "execution_count": null,
   "metadata": {
    "collapsed": true
   },
   "outputs": [],
   "source": [
    "filename = \"./flights.csv\"\n",
    "tempfile = NamedTemporaryFile(mode='wb', delete=False)\n",
    "\n",
    "with open(filename, 'rb') as csvfile, tempfile:\n",
    "    reader = csv.reader(csvfile)\n",
    "    writer = csv.writer(tempfile)\n",
    "    for row in reader:\n",
    "        if row[1] == '10':        #Oktober\n",
    "            row[7] = numbertoiata(row[7])\n",
    "            row[8] = numbertoiata(row[8])\n",
    "            writer.writerow(row)\n",
    "        else:\n",
    "            writer.writerow(row)  \n",
    "\n",
    "shutil.move(tempfile.name, filename)"
   ]
  },
  {
   "cell_type": "markdown",
   "metadata": {},
   "source": [
    "Remove all non delayed filghts and delayed flights without a reason."
   ]
  },
  {
   "cell_type": "code",
   "execution_count": 28,
   "metadata": {},
   "outputs": [
    {
     "ename": "ValueError",
     "evalue": "invalid literal for int() with base 10: ''",
     "output_type": "error",
     "traceback": [
      "\u001b[0;31m---------------------------------------------------------------------------\u001b[0m",
      "\u001b[0;31mValueError\u001b[0m                                Traceback (most recent call last)",
      "\u001b[0;32m<ipython-input-28-082ae0fa3e26>\u001b[0m in \u001b[0;36m<module>\u001b[0;34m()\u001b[0m\n\u001b[1;32m      4\u001b[0m \u001b[0mwriter\u001b[0m \u001b[0;34m=\u001b[0m \u001b[0mcsv\u001b[0m\u001b[0;34m.\u001b[0m\u001b[0mwriter\u001b[0m\u001b[0;34m(\u001b[0m\u001b[0mf2\u001b[0m\u001b[0;34m)\u001b[0m\u001b[0;34m\u001b[0m\u001b[0m\n\u001b[1;32m      5\u001b[0m \u001b[0;32mfor\u001b[0m \u001b[0mrow\u001b[0m \u001b[0;32min\u001b[0m \u001b[0mreader\u001b[0m\u001b[0;34m:\u001b[0m\u001b[0;34m\u001b[0m\u001b[0m\n\u001b[0;32m----> 6\u001b[0;31m     \u001b[0;32mif\u001b[0m \u001b[0mint\u001b[0m\u001b[0;34m(\u001b[0m\u001b[0mrow\u001b[0m\u001b[0;34m[\u001b[0m\u001b[0;36m22\u001b[0m\u001b[0;34m]\u001b[0m\u001b[0;34m)\u001b[0m \u001b[0;34m>=\u001b[0m \u001b[0;36m5\u001b[0m \u001b[0;32mand\u001b[0m \u001b[0mrow\u001b[0m\u001b[0;34m[\u001b[0m\u001b[0;36m22\u001b[0m\u001b[0;34m]\u001b[0m \u001b[0;34m!=\u001b[0m \u001b[0;34m''\u001b[0m\u001b[0;34m:\u001b[0m\u001b[0;34m\u001b[0m\u001b[0m\n\u001b[0m\u001b[1;32m      7\u001b[0m         \u001b[0mwriter\u001b[0m\u001b[0;34m.\u001b[0m\u001b[0mwriterow\u001b[0m\u001b[0;34m(\u001b[0m\u001b[0mrow\u001b[0m\u001b[0;34m)\u001b[0m\u001b[0;34m\u001b[0m\u001b[0m\n\u001b[1;32m      8\u001b[0m     \u001b[0;32melse\u001b[0m\u001b[0;34m:\u001b[0m\u001b[0;34m\u001b[0m\u001b[0m\n",
      "\u001b[0;31mValueError\u001b[0m: invalid literal for int() with base 10: ''"
     ]
    }
   ],
   "source": [
    "f1 = open('./flights.csv', 'r')\n",
    "f2 = open('./flights_nondelayed.csv', 'w')\n",
    "reader = csv.reader(f1)\n",
    "writer = csv.writer(f2)\n",
    "for row in reader:\n",
    "    if int(row[22]) >= 5 and row[22] != '':\n",
    "        writer.writerow(row)\n",
    "    else:\n",
    "        continue\n",
    "\n",
    "f1.close()\n",
    "f2.close()"
   ]
  },
  {
   "cell_type": "markdown",
   "metadata": {},
   "source": [
    "Take the 6 largest airlines\n",
    "\n",
    "- United Airlines\n",
    "- American Airlines\n",
    "- Delta\n",
    "- South west\n",
    "- Alaska\n",
    "- Jetblue\n"
   ]
  },
  {
   "cell_type": "code",
   "execution_count": 19,
   "metadata": {},
   "outputs": [
    {
     "ename": "FileNotFoundError",
     "evalue": "[Errno 2] No such file or directory: './flights_delayed.csv'",
     "output_type": "error",
     "traceback": [
      "\u001b[0;31m---------------------------------------------------------------------------\u001b[0m",
      "\u001b[0;31mFileNotFoundError\u001b[0m                         Traceback (most recent call last)",
      "\u001b[0;32m<ipython-input-19-51b9bc627dda>\u001b[0m in \u001b[0;36m<module>\u001b[0;34m()\u001b[0m\n\u001b[0;32m----> 1\u001b[0;31m \u001b[0mf2\u001b[0m \u001b[0;34m=\u001b[0m \u001b[0mopen\u001b[0m\u001b[0;34m(\u001b[0m\u001b[0;34m'./flights_delayed.csv'\u001b[0m\u001b[0;34m,\u001b[0m \u001b[0;34m'rb'\u001b[0m\u001b[0;34m)\u001b[0m\u001b[0;34m\u001b[0m\u001b[0m\n\u001b[0m\u001b[1;32m      2\u001b[0m \u001b[0mf3\u001b[0m \u001b[0;34m=\u001b[0m \u001b[0mopen\u001b[0m\u001b[0;34m(\u001b[0m\u001b[0;34m'./flights_delayed_selairl.csv'\u001b[0m\u001b[0;34m,\u001b[0m \u001b[0;34m'wb'\u001b[0m\u001b[0;34m)\u001b[0m\u001b[0;34m\u001b[0m\u001b[0m\n\u001b[1;32m      3\u001b[0m \u001b[0mr\u001b[0m \u001b[0;34m=\u001b[0m \u001b[0mcsv\u001b[0m\u001b[0;34m.\u001b[0m\u001b[0mreader\u001b[0m\u001b[0;34m(\u001b[0m\u001b[0mf2\u001b[0m\u001b[0;34m)\u001b[0m\u001b[0;34m\u001b[0m\u001b[0m\n\u001b[1;32m      4\u001b[0m \u001b[0mw\u001b[0m \u001b[0;34m=\u001b[0m \u001b[0mcsv\u001b[0m\u001b[0;34m.\u001b[0m\u001b[0mwriter\u001b[0m\u001b[0;34m(\u001b[0m\u001b[0mf3\u001b[0m\u001b[0;34m)\u001b[0m\u001b[0;34m\u001b[0m\u001b[0m\n\u001b[1;32m      5\u001b[0m \u001b[0;34m\u001b[0m\u001b[0m\n",
      "\u001b[0;31mFileNotFoundError\u001b[0m: [Errno 2] No such file or directory: './flights_delayed.csv'"
     ]
    }
   ],
   "source": [
    "f2 = open('./flights_delayed.csv', 'rb')\n",
    "f3 = open('./flights_delayed_selairl.csv', 'wb')\n",
    "r = csv.reader(f2)\n",
    "w = csv.writer(f3)\n",
    "\n",
    "\n",
    "\n",
    "    \n",
    "f2.close()\n",
    "f3.close()"
   ]
  },
  {
   "cell_type": "code",
   "execution_count": 4,
   "metadata": {},
   "outputs": [
    {
     "ename": "FileNotFoundError",
     "evalue": "[Errno 2] No such file or directory: './flights_delayed_selairl.csv'",
     "output_type": "error",
     "traceback": [
      "\u001b[0;31m---------------------------------------------------------------------------\u001b[0m",
      "\u001b[0;31mFileNotFoundError\u001b[0m                         Traceback (most recent call last)",
      "\u001b[0;32m<ipython-input-4-239768f5f4cc>\u001b[0m in \u001b[0;36m<module>\u001b[0;34m()\u001b[0m\n\u001b[1;32m      1\u001b[0m \u001b[0mcount\u001b[0m \u001b[0;34m=\u001b[0m \u001b[0mCounter\u001b[0m\u001b[0;34m(\u001b[0m\u001b[0;34m)\u001b[0m\u001b[0;34m\u001b[0m\u001b[0m\n\u001b[1;32m      2\u001b[0m \u001b[0;34m\u001b[0m\u001b[0m\n\u001b[0;32m----> 3\u001b[0;31m \u001b[0mf3\u001b[0m \u001b[0;34m=\u001b[0m \u001b[0mopen\u001b[0m\u001b[0;34m(\u001b[0m\u001b[0;34m'./flights_delayed_selairl.csv'\u001b[0m\u001b[0;34m,\u001b[0m \u001b[0;34m'rb'\u001b[0m\u001b[0;34m)\u001b[0m\u001b[0;34m\u001b[0m\u001b[0m\n\u001b[0m\u001b[1;32m      4\u001b[0m \u001b[0mr\u001b[0m \u001b[0;34m=\u001b[0m \u001b[0mcsv\u001b[0m\u001b[0;34m.\u001b[0m\u001b[0mreader\u001b[0m\u001b[0;34m(\u001b[0m\u001b[0mf3\u001b[0m\u001b[0;34m)\u001b[0m\u001b[0;34m\u001b[0m\u001b[0m\n\u001b[1;32m      5\u001b[0m \u001b[0;34m\u001b[0m\u001b[0m\n",
      "\u001b[0;31mFileNotFoundError\u001b[0m: [Errno 2] No such file or directory: './flights_delayed_selairl.csv'"
     ]
    }
   ],
   "source": [
    "count = Counter()\n",
    "\n",
    "f3 = open('./flights_delayed_selairl.csv', 'rb')\n",
    "r = csv.reader(f3)\n",
    "\n",
    "for line in r:\n",
    "    count[line[7]] += 1\n",
    "    count[line[8]] += 1\n",
    "\n",
    "f3.close()"
   ]
  },
  {
   "cell_type": "markdown",
   "metadata": {},
   "source": [
    "Count average amount of delayed flights of the 6 biggest airlines per day per airport "
   ]
  },
  {
   "cell_type": "code",
   "execution_count": 5,
   "metadata": {},
   "outputs": [
    {
     "name": "stdout",
     "output_type": "stream",
     "text": [
      "Counter()\n"
     ]
    }
   ],
   "source": [
    "count_avg = Counter()\n",
    "for k,v in count.items():\n",
    "    count_avg[k] = v/365\n",
    "print(count_avg)"
   ]
  },
  {
   "cell_type": "markdown",
   "metadata": {},
   "source": [
    "Any airport with less than a ***variable*** (*var*) number of total flights a day is removed from the dataset"
   ]
  },
  {
   "cell_type": "code",
   "execution_count": 20,
   "metadata": {},
   "outputs": [
    {
     "name": "stdout",
     "output_type": "stream",
     "text": [
      "\n"
     ]
    }
   ],
   "source": [
    "count2 = Counter()\n",
    "\n",
    "var = 100 # Number of minimal daily flights\n",
    "\n",
    "f4 = open(\"flights.csv\")\n",
    "flights = csv.reader(f4)\n",
    "\n",
    "for line in flights:\n",
    "    count2[line[7]] += 1\n",
    "    count2[line[8]] += 1\n",
    "    \n",
    "for k,v in count2.items():\n",
    "    count2[k] = v/365\n",
    "    \n",
    "f4.close()\n",
    "\n",
    "imp_airp = []\n",
    "for k,v in count2.iteritems():\n",
    "    if v >= 100:\n",
    "        imp_airp.append(k)\n",
    "    else:\n",
    "        continue"
   ]
  },
  {
   "cell_type": "code",
   "execution_count": 21,
   "metadata": {
    "collapsed": true
   },
   "outputs": [],
   "source": [
    "f3 = open('./flights_delayed_selairl.csv', 'rb')\n",
    "f5 = open('./flights_delayed_selairl_selairp.csv', 'wb')\n",
    "read = csv.reader(f3)\n",
    "write = csv.writer(f5)\n",
    "\n",
    "for row in read:\n",
    "    if row[7] and row[8] in imp_airp:\n",
    "        write.writerow(row)\n",
    "    else:\n",
    "        continue\n",
    "    \n",
    "f3.close()\n",
    "f5.close()"
   ]
  },
  {
   "cell_type": "markdown",
   "metadata": {},
   "source": [
    "If delay is smaller than *variable*, skip it"
   ]
  },
  {
   "cell_type": "code",
   "execution_count": 23,
   "metadata": {
    "collapsed": true
   },
   "outputs": [],
   "source": [
    "f6 = open('./flights_delayed_selairl_selairp.csv', 'rb')\n",
    "f7 = open('./flights_extremedelayed_selairl_selairp.csv', 'wb')\n",
    "reader = csv.reader(f6)\n",
    "writer = csv.writer(f7)\n",
    "\n",
    "vari = 20\n",
    "\n",
    "for row in reader:\n",
    "    if int(row[21]) >= vari:\n",
    "        writer.writerow(row)\n",
    "    else:\n",
    "        continue\n",
    "\n",
    "\n",
    "f6.close()\n",
    "f7.close()"
   ]
  },
  {
   "cell_type": "code",
   "execution_count": 45,
   "metadata": {
    "collapsed": true,
    "scrolled": true
   },
   "outputs": [],
   "source": [
    "with open('./flights_extremedelayed_selairl_selairp.csv', 'rb') as f7:\n",
    "    with open('./smalldataset.csv', 'wb') as f8:\n",
    "        r = csv.reader(f7)\n",
    "        w = csv.writer(f8)\n",
    "        for v, row in enumerate(r):\n",
    "            if v%100 == 0:\n",
    "                w.writerow(row)\n",
    "            else:\n",
    "                continue"
   ]
  },
  {
   "cell_type": "code",
   "execution_count": 9,
   "metadata": {},
   "outputs": [
    {
     "ename": "FileNotFoundError",
     "evalue": "[Errno 2] No such file or directory: './flights.csv'",
     "output_type": "error",
     "traceback": [
      "\u001b[0;31m---------------------------------------------------------------------------\u001b[0m",
      "\u001b[0;31mFileNotFoundError\u001b[0m                         Traceback (most recent call last)",
      "\u001b[0;32m<ipython-input-9-46ff75b7c9f5>\u001b[0m in \u001b[0;36m<module>\u001b[0;34m()\u001b[0m\n\u001b[0;32m----> 1\u001b[0;31m \u001b[0;32mwith\u001b[0m \u001b[0mopen\u001b[0m\u001b[0;34m(\u001b[0m\u001b[0;34m'./flights.csv'\u001b[0m\u001b[0;34m,\u001b[0m \u001b[0;34m'rb'\u001b[0m\u001b[0;34m)\u001b[0m \u001b[0;32mas\u001b[0m \u001b[0mf9\u001b[0m\u001b[0;34m:\u001b[0m\u001b[0;34m\u001b[0m\u001b[0m\n\u001b[0m\u001b[1;32m      2\u001b[0m     \u001b[0;32mwith\u001b[0m \u001b[0mopen\u001b[0m\u001b[0;34m(\u001b[0m\u001b[0;34m'./allnondelayedflights.csv'\u001b[0m\u001b[0;34m,\u001b[0m \u001b[0;34m'wb'\u001b[0m\u001b[0;34m)\u001b[0m \u001b[0;32mas\u001b[0m \u001b[0mf10\u001b[0m\u001b[0;34m:\u001b[0m\u001b[0;34m\u001b[0m\u001b[0m\n\u001b[1;32m      3\u001b[0m         \u001b[0mr\u001b[0m \u001b[0;34m=\u001b[0m \u001b[0mcsv\u001b[0m\u001b[0;34m.\u001b[0m\u001b[0mreader\u001b[0m\u001b[0;34m(\u001b[0m\u001b[0mf9\u001b[0m\u001b[0;34m)\u001b[0m\u001b[0;34m\u001b[0m\u001b[0m\n\u001b[1;32m      4\u001b[0m         \u001b[0mw\u001b[0m \u001b[0;34m=\u001b[0m \u001b[0mcsv\u001b[0m\u001b[0;34m.\u001b[0m\u001b[0mwriter\u001b[0m\u001b[0;34m(\u001b[0m\u001b[0mf10\u001b[0m\u001b[0;34m)\u001b[0m\u001b[0;34m\u001b[0m\u001b[0m\n\u001b[1;32m      5\u001b[0m         \u001b[0;32mfor\u001b[0m \u001b[0mv\u001b[0m\u001b[0;34m,\u001b[0m \u001b[0mrow\u001b[0m \u001b[0;32min\u001b[0m \u001b[0menumerate\u001b[0m\u001b[0;34m(\u001b[0m\u001b[0mr\u001b[0m\u001b[0;34m)\u001b[0m\u001b[0;34m:\u001b[0m\u001b[0;34m\u001b[0m\u001b[0m\n",
      "\u001b[0;31mFileNotFoundError\u001b[0m: [Errno 2] No such file or directory: './flights.csv'"
     ]
    }
   ],
   "source": [
    "with open('./flights.csv', 'rb') as f9:\n",
    "    with open('./allnondelayedflights.csv', 'wb') as f10:\n",
    "        r = csv.reader(f9)\n",
    "        w = csv.writer(f10)\n",
    "        for v, row in enumerate(r):\n",
    "            if v != 0 and row[22] != '':\n",
    "                if int(row[22]) <= 0:\n",
    "                    w.writerow(row)\n",
    "                else:\n",
    "                    continue\n",
    "            else:\n",
    "                continue\n",
    "            "
   ]
  },
  {
   "cell_type": "code",
   "execution_count": 62,
   "metadata": {
    "collapsed": true
   },
   "outputs": [],
   "source": [
    "with open('./allnondelayedflights.csv', 'rb') as f11:\n",
    "    with open('./smalldatasetnondelayed.csv', 'wb') as f12:\n",
    "        r = csv.reader(f11)\n",
    "        w = csv.writer(f12)\n",
    "        for v, row in enumerate(r):\n",
    "            if v%600 == 0:\n",
    "                w.writerow(row)\n",
    "            else:\n",
    "                continue"
   ]
  },
  {
   "cell_type": "code",
   "execution_count": 8,
   "metadata": {},
   "outputs": [],
   "source": [
    "one = pd.read_csv(\"./selectedsmalldataset.csv\")\n",
    "two = pd.read_csv(\"./smalldatasetdelayed.csv\")\n",
    "two = two.dropna(axis=1)\n",
    "merged = one.merge(two)\n",
    "merged.to_csv(\"outputFineNew.csv\", index=False)"
   ]
  },
  {
   "cell_type": "code",
   "execution_count": 35,
   "metadata": {},
   "outputs": [],
   "source": [
    "with open('./selectedsmalldataset.csv', 'r') as f9:\n",
    "    with open('./delayed.csv', 'w') as f10:\n",
    "        r = csv.reader(f9)\n",
    "        w = csv.writer(f10)\n",
    "        for row in r:\n",
    "            if int(row[22]) >= 5:\n",
    "                w.writerow(row)\n",
    "            else:\n",
    "                continue\n",
    "                \n",
    "with open('./selectedsmalldataset.csv', 'r') as f9:\n",
    "    with open('./nondelayed.csv', 'w') as f10:\n",
    "        r = csv.reader(f9)\n",
    "        w = csv.writer(f10)\n",
    "        for row in r:\n",
    "            if int(row[22]) < 5:\n",
    "                w.writerow(row)\n",
    "            else:\n",
    "                continue\n",
    "                "
   ]
  },
  {
   "cell_type": "code",
   "execution_count": 37,
   "metadata": {},
   "outputs": [],
   "source": [
    "with open('./nondelayed.csv', 'r') as f11:\n",
    "    with open('./nondelayedtrimmed.csv', 'w') as f12:\n",
    "        r = csv.reader(f11)\n",
    "        w = csv.writer(f12)\n",
    "        for v, row in enumerate(r):\n",
    "            if v%2 == 0:\n",
    "                w.writerow(row)\n",
    "            else:\n",
    "                continue"
   ]
  },
  {
   "cell_type": "code",
   "execution_count": 40,
   "metadata": {
    "collapsed": true
   },
   "outputs": [],
   "source": [
    "with open('./flights.csv', 'r') as f9:\n",
    "    with open('./trimmedandnew.csv', 'w') as f10:\n",
    "        r = csv.reader(f9)\n",
    "        w = csv.writer(f10)\n",
    "        for v, row in enumerate(r):\n",
    "            if v%10 == 0:\n",
    "                w.writerow(row)\n",
    "            else:\n",
    "                continue"
   ]
  },
  {
   "cell_type": "code",
   "execution_count": null,
   "metadata": {
    "collapsed": true
   },
   "outputs": [],
   "source": []
  }
 ],
 "metadata": {
  "kernelspec": {
   "display_name": "Python 3",
   "language": "python",
   "name": "python3"
  },
  "language_info": {
   "codemirror_mode": {
    "name": "ipython",
    "version": 3
   },
   "file_extension": ".py",
   "mimetype": "text/x-python",
   "name": "python",
   "nbconvert_exporter": "python",
   "pygments_lexer": "ipython3",
   "version": "3.6.1"
  }
 },
 "nbformat": 4,
 "nbformat_minor": 2
}
