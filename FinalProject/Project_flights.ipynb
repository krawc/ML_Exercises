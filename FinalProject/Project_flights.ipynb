{
 "cells": [
  {
   "cell_type": "markdown",
   "metadata": {},
   "source": [
    "## American Intercontinental Flights"
   ]
  },
  {
   "cell_type": "markdown",
   "metadata": {},
   "source": [
    "by: Konrad Krawczyk and Dorian Buijse"
   ]
  },
  {
   "cell_type": "code",
   "execution_count": 1,
   "metadata": {
    "collapsed": true
   },
   "outputs": [],
   "source": [
    "import csv\n",
    "import pandas as pd\n",
    "from collections import Counter\n",
    "from tempfile import NamedTemporaryFile\n",
    "import shutil\n"
   ]
  },
  {
   "cell_type": "markdown",
   "metadata": {},
   "source": [
    "Problem with the data, oktober used a 5 number classification for the airports instead of the standard 3 letter one. To fix this we used the following script."
   ]
  },
  {
   "cell_type": "code",
   "execution_count": null,
   "metadata": {
    "collapsed": true
   },
   "outputs": [],
   "source": [
    "propercodes = csv.reader(open(\"./L_AIRPORT.csv\"))\n",
    "numbertoairport = csv.reader(open(\"./L_AIRPORT_ID.csv\"))\n",
    "prpcode = dict()\n",
    "numtoair = dict()\n",
    "\n",
    "for line in propercodes:\n",
    "    prpcode[line[-1]] = line[0]\n",
    "\n",
    "for line in numbertoairport:\n",
    "    numtoair[line[0]] = line[-1]\n",
    "    \n",
    "def numbertoiata(number):\n",
    "    return prpcode[numtoair[number]]"
   ]
  },
  {
   "cell_type": "markdown",
   "metadata": {},
   "source": [
    "Now to create the new dataset where all faulty classifications are fixed. (Only Oktober is faulty)"
   ]
  },
  {
   "cell_type": "code",
   "execution_count": null,
   "metadata": {
    "collapsed": true
   },
   "outputs": [],
   "source": [
    "filename = \"./flights.csv\"\n",
    "tempfile = NamedTemporaryFile(mode='wb', delete=False)\n",
    "\n",
    "with open(filename, 'rb') as csvfile, tempfile:\n",
    "    reader = csv.reader(csvfile)\n",
    "    writer = csv.writer(tempfile)\n",
    "    for row in reader:\n",
    "        if row[1] == '10':        #Oktober\n",
    "            row[7] = numbertoiata(row[7])\n",
    "            row[8] = numbertoiata(row[8])\n",
    "            writer.writerow(row)\n",
    "        else:\n",
    "            writer.writerow(row)  \n",
    "\n",
    "shutil.move(tempfile.name, filename)"
   ]
  },
  {
   "cell_type": "markdown",
   "metadata": {},
   "source": [
    "Remove all non delayed filghts and delayed flights without a reason."
   ]
  },
  {
   "cell_type": "code",
   "execution_count": 2,
   "metadata": {
    "collapsed": true
   },
   "outputs": [],
   "source": [
    "f1 = open('flights.csv', 'rb')\n",
    "f2 = open('flights_delayed.csv', 'wb')\n",
    "reader = csv.reader(f1)\n",
    "writer = csv.writer(f2)\n",
    "for row in reader:\n",
    "    if row[-1] != '':\n",
    "        writer.writerow(row)\n",
    "    else:\n",
    "        continue\n",
    "\n",
    "f1.close()\n",
    "f2.close()"
   ]
  },
  {
   "cell_type": "markdown",
   "metadata": {},
   "source": [
    "Take the 6 largest airlines\n",
    "\n",
    "- United Airlines\n",
    "- American Airlines\n",
    "- Delta\n",
    "- South west\n",
    "- Alaska\n",
    "- Jetblue\n"
   ]
  },
  {
   "cell_type": "code",
   "execution_count": 5,
   "metadata": {
    "collapsed": true
   },
   "outputs": [],
   "source": [
    "f2 = open('./flights_delayed.csv', 'rb')\n",
    "f3 = open('./flights_delayed_selairl.csv', 'wb')\n",
    "r = csv.reader(f2)\n",
    "w = csv.writer(f3)\n",
    "\n",
    "for row in r:\n",
    "    if row[4] in ['UA', 'AA', 'DL', 'WN', 'AS', 'B6']:\n",
    "        w.writerow(row)\n",
    "    else:\n",
    "        continue\n",
    "    \n",
    "f2.close()\n",
    "f3.close()"
   ]
  },
  {
   "cell_type": "code",
   "execution_count": 24,
   "metadata": {
    "collapsed": true
   },
   "outputs": [],
   "source": [
    "count = Counter()\n",
    "\n",
    "f3 = open('./flights_delayed_selairl.csv', 'rb')\n",
    "r = csv.reader(f3)\n",
    "\n",
    "for line in r:\n",
    "    count[line[7]] += 1\n",
    "    count[line[8]] += 1\n",
    "\n",
    "f3.close()"
   ]
  },
  {
   "cell_type": "markdown",
   "metadata": {},
   "source": [
    "Count average amount of delayed flights of the 6 biggest airlines per day per airport "
   ]
  },
  {
   "cell_type": "code",
   "execution_count": 28,
   "metadata": {},
   "outputs": [
    {
     "name": "stdout",
     "output_type": "stream",
     "text": [
      "Counter({'ATL': 217, 'LAX': 165, 'DFW': 151, 'ORD': 149, 'DEN': 136, 'LAS': 118, 'SFO': 111, 'BOS': 110, 'JFK': 107, 'MCO': 107, 'PHX': 105, 'BWI': 90, 'SEA': 89, 'LGA': 88, 'MDW': 86, 'EWR': 82, 'IAH': 78, 'MIA': 74, 'FLL': 62, 'MSP': 62, 'DAL': 62, 'SAN': 58, 'DCA': 58, 'TPA': 58, 'HOU': 57, 'DTW': 55, 'CLT': 55, 'PHL': 47, 'OAK': 42, 'SLC': 40, 'STL': 39, 'AUS': 36, 'BNA': 35, 'PDX': 33, 'SJC': 32, 'MSY': 32, 'SMF': 31, 'MCI': 30, 'IAD': 29, 'SNA': 28, 'SJU': 26, 'SAT': 25, 'PBI': 25, 'RDU': 24, 'RSW': 21, 'PIT': 17, 'IND': 17, 'ABQ': 17, 'BDL': 16, 'MKE': 16, 'CMH': 15, 'JAX': 14, 'CLE': 14, 'ONT': 14, 'BUR': 13, 'BUF': 13, 'HNL': 13, 'ANC': 13, 'OMA': 10, 'RNO': 9, 'OKC': 9, 'PVD': 9, 'ELP': 9, 'TUS': 8, 'TUL': 8, 'LGB': 8, 'RIC': 7, 'CHS': 7, 'MEM': 7, 'GEG': 6, 'ALB': 6, 'SDF': 6, 'BHM': 6, 'OGG': 6, 'ORF': 5, 'HPN': 5, 'BOI': 4, 'ISP': 4, 'CAK': 4, 'ROC': 4, 'GRR': 4, 'MHT': 4, 'CVG': 4, 'LIT': 3, 'JNU': 3, 'DAY': 3, 'MAF': 3, 'DSM': 3, 'SRQ': 3, 'SAV': 3, 'STT': 3, 'PNS': 3, 'PWM': 3, 'GSP': 2, 'LBB': 2, 'LIH': 2, 'JAC': 2, 'SYR': 2, 'PSP': 2, 'BSM': 2, 'ECP': 2, 'KOA': 2, 'MSN': 2, 'KTN': 2, 'ICT': 2, 'FNT': 1, 'SIT': 1, 'EGE': 1, 'HSV': 1, 'AMA': 1, 'BQN': 1, 'JAN': 1, 'HRL': 1, 'CRP': 1, 'MFE': 1, 'GSO': 1, 'BTV': 1, 'COS': 1, 'BZN': 1, 'MDT': 1, 'BIL': 1, 'VPS': 1, 'FAI': 1, 'STX': 1, 'DAB': 1, 'GST': 0, 'BGR': 0, 'AGS': 0, 'MYR': 0, 'RAP': 0, 'WRG': 0, 'CHO': 0, 'EYW': 0, 'GPT': 0, 'PHF': 0, 'GUC': 0, 'CRW': 0, 'GUM': 0, 'HDN': 0, 'BET': 0, 'ROA': 0, 'SCC': 0, 'TRI': 0, 'SHV': 0, 'DLH': 0, 'GRB': 0, 'MTJ': 0, 'BTR': 0, 'PSC': 0, 'AVP': 0, 'PSG': 0, 'PSE': 0, 'AVL': 0, 'BLI': 0, 'TYS': 0, 'FSD': 0, 'ACK': 0, 'ILM': 0, 'XNA': 0, 'ATW': 0, 'DLG': 0, 'AKN': 0, 'FCA': 0, 'MVY': 0, 'LFT': 0, 'YAK': 0, 'TLH': 0, 'ADK': 0, 'ITO': 0, 'OME': 0, 'BRW': 0, 'CDV': 0, 'TVC': 0, 'ORH': 0, 'LEX': 0, 'SBN': 0, 'HYA': 0, 'GNV': 0, 'CHA': 0, 'SWF': 0, 'MSO': 0, 'CAE': 0, 'FAY': 0, 'FAR': 0, 'ADQ': 0, 'FAT': 0, 'EVV': 0, 'BIS': 0, 'SGF': 0, 'MLB': 0, 'ABE': 0, 'MOB': 0, 'OTZ': 0})\n"
     ]
    }
   ],
   "source": [
    "count_avg = Counter()\n",
    "for k,v in count.items():\n",
    "    count_avg[k] = v/365\n",
    "print(count_avg)"
   ]
  },
  {
   "cell_type": "markdown",
   "metadata": {},
   "source": [
    "Any airport with less than a ***variable*** (*var*) number of total flights a day is removed from the dataset"
   ]
  },
  {
   "cell_type": "code",
   "execution_count": 51,
   "metadata": {
    "collapsed": true
   },
   "outputs": [],
   "source": [
    "count2 = Counter()\n",
    "\n",
    "var = 100 # Number of minimal daily flights\n",
    "\n",
    "f4 = open(\"flights.csv\")\n",
    "flights = csv.reader(f4)\n",
    "\n",
    "for line in flights:\n",
    "    count2[line[7]] += 1\n",
    "    count2[line[8]] += 1\n",
    "    \n",
    "for k,v in count2.items():\n",
    "    count2[k] = v/365\n",
    "    \n",
    "f4.close()\n",
    "\n",
    "imp_airp = []\n",
    "for k,v in count2.iteritems():\n",
    "    if v >= 100:\n",
    "        imp_airp.append(k)\n",
    "    else:\n",
    "        continue"
   ]
  },
  {
   "cell_type": "code",
   "execution_count": 56,
   "metadata": {},
   "outputs": [
    {
     "name": "stdout",
     "output_type": "stream",
     "text": [
      "\n"
     ]
    }
   ],
   "source": [
    "f3 = open('./flights_delayed_selairl.csv', 'rb')\n",
    "f5 = open('./flights_delayed_selairl_selairp.csv', 'wb')\n",
    "read = csv.reader(f3)\n",
    "write = csv.writer(f5)\n",
    "\n",
    "for row in read:\n",
    "    if row[7] and row[8] in imp_airp:\n",
    "        write.writerow(row)\n",
    "    else:\n",
    "        continue\n",
    "    \n",
    "f3.close()\n",
    "f5.close()"
   ]
  },
  {
   "cell_type": "markdown",
   "metadata": {},
   "source": []
  },
  {
   "cell_type": "code",
   "execution_count": null,
   "metadata": {
    "collapsed": true
   },
   "outputs": [],
   "source": []
  },
  {
   "cell_type": "code",
   "execution_count": null,
   "metadata": {
    "collapsed": true
   },
   "outputs": [],
   "source": []
  },
  {
   "cell_type": "code",
   "execution_count": null,
   "metadata": {
    "collapsed": true
   },
   "outputs": [],
   "source": []
  }
 ],
 "metadata": {
  "kernelspec": {
   "display_name": "Python 3",
   "language": "python",
   "name": "python3"
  },
  "language_info": {
   "codemirror_mode": {
    "name": "ipython",
    "version": 3
   },
   "file_extension": ".py",
   "mimetype": "text/x-python",
   "name": "python",
   "nbconvert_exporter": "python",
   "pygments_lexer": "ipython3",
   "version": "3.6.1"
  }
 },
 "nbformat": 4,
 "nbformat_minor": 2
}
